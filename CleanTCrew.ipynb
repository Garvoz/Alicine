{
 "cells": [
  {
   "cell_type": "code",
   "execution_count": 1,
   "metadata": {},
   "outputs": [],
   "source": [
    "# import des modules :\n",
    "import pandas as pd\n",
    "import numpy as np"
   ]
  },
  {
   "cell_type": "code",
   "execution_count": null,
   "metadata": {},
   "outputs": [],
   "source": [
    "# import des modules :\n",
    "import pandas as pd\n",
    "import numpy as np\n",
    "\n",
    "#Récupération de la BD :\n",
    "link4 = \"./BD/title.crew.tsv.gz\"\n",
    "df_t_crew = pd.read_csv(link4, sep = \"\\t\", compression = \"gzip\")\n",
    "\n",
    "# Création d'une copie :\n",
    "df_t_crew_Clean = df_t_crew.copy()\n",
    "\n",
    "# Netoyage des données:\n",
    "valNull = df_t_crew_Clean.isna().sum() #0 valeurs\n",
    "duplicated = df_t_crew_Clean.duplicated().sum()  # 0valeurs mais y a \\N à traiter\n",
    "\n",
    "# Etape 1 : Spliter les listes:\n",
    "df_t_crew_Clean['directors'] = df_t_crew_Clean['directors'].apply(lambda x: x.strip().split(',') if isinstance(x,str) else x )\n",
    "df_t_crew_Clean['writers'] = df_t_crew_Clean['writers'].apply(lambda x: x.strip().split(',') if isinstance(x,str) else x)\n",
    "\n",
    "#Etape 2 : Transformation des valeurs \\N en NAN\n",
    "df_t_crew_Clean['directors'] = df_t_crew_Clean['directors'].replace(r'\\N', np.nan)\n",
    "df_t_crew_Clean['writers'] = df_t_crew_Clean['writers'].replace(r'\\N', np.nan)\n",
    "\n",
    "\n",
    "# Etape3 : exploser (dans un second temps) ===> à réaliser\n",
    "df_t_crew_Clean = df_t_crew_Clean.explode('directors')\n",
    "df_t_crew_Clean = df_t_crew_Clean.explode('writers')"
   ]
  },
  {
   "cell_type": "code",
   "execution_count": 3,
   "metadata": {},
   "outputs": [],
   "source": [
    "#les Bases de données : \n",
    "\n",
    "link4 = \"./BD/title.crew.tsv.gz\"\n",
    "df_t_crew = pd.read_csv(link4, sep = \"\\t\", compression = \"gzip\")\n",
    "\n"
   ]
  },
  {
   "cell_type": "code",
   "execution_count": 4,
   "metadata": {},
   "outputs": [],
   "source": [
    "df_t_crew_Clean = df_t_crew.copy()"
   ]
  },
  {
   "cell_type": "code",
   "execution_count": 46,
   "metadata": {},
   "outputs": [
    {
     "data": {
      "text/html": [
       "<div>\n",
       "<style scoped>\n",
       "    .dataframe tbody tr th:only-of-type {\n",
       "        vertical-align: middle;\n",
       "    }\n",
       "\n",
       "    .dataframe tbody tr th {\n",
       "        vertical-align: top;\n",
       "    }\n",
       "\n",
       "    .dataframe thead th {\n",
       "        text-align: right;\n",
       "    }\n",
       "</style>\n",
       "<table border=\"1\" class=\"dataframe\">\n",
       "  <thead>\n",
       "    <tr style=\"text-align: right;\">\n",
       "      <th></th>\n",
       "      <th>tconst</th>\n",
       "      <th>directors</th>\n",
       "      <th>writers</th>\n",
       "    </tr>\n",
       "  </thead>\n",
       "  <tbody>\n",
       "    <tr>\n",
       "      <th>4584112</th>\n",
       "      <td>tt18481864</td>\n",
       "      <td>nm11138475</td>\n",
       "      <td>\\N</td>\n",
       "    </tr>\n",
       "    <tr>\n",
       "      <th>1139087</th>\n",
       "      <td>tt10309314</td>\n",
       "      <td>\\N</td>\n",
       "      <td>\\N</td>\n",
       "    </tr>\n",
       "    <tr>\n",
       "      <th>7698294</th>\n",
       "      <td>tt33808733</td>\n",
       "      <td>nm2351889</td>\n",
       "      <td>\\N</td>\n",
       "    </tr>\n",
       "    <tr>\n",
       "      <th>9122290</th>\n",
       "      <td>tt6494082</td>\n",
       "      <td>nm3308068</td>\n",
       "      <td>nm3308068</td>\n",
       "    </tr>\n",
       "    <tr>\n",
       "      <th>2643079</th>\n",
       "      <td>tt13161464</td>\n",
       "      <td>\\N</td>\n",
       "      <td>\\N</td>\n",
       "    </tr>\n",
       "    <tr>\n",
       "      <th>8499354</th>\n",
       "      <td>tt5036578</td>\n",
       "      <td>nm6501104</td>\n",
       "      <td>nm6501104</td>\n",
       "    </tr>\n",
       "    <tr>\n",
       "      <th>5577728</th>\n",
       "      <td>tt23264794</td>\n",
       "      <td>\\N</td>\n",
       "      <td>\\N</td>\n",
       "    </tr>\n",
       "    <tr>\n",
       "      <th>438875</th>\n",
       "      <td>tt0452583</td>\n",
       "      <td>nm0171315</td>\n",
       "      <td>nm2091193,nm1885615</td>\n",
       "    </tr>\n",
       "    <tr>\n",
       "      <th>535947</th>\n",
       "      <td>tt0551464</td>\n",
       "      <td>nm0739298</td>\n",
       "      <td>nm0739298</td>\n",
       "    </tr>\n",
       "    <tr>\n",
       "      <th>9435065</th>\n",
       "      <td>tt7235518</td>\n",
       "      <td>nm3289740</td>\n",
       "      <td>nm1820958,nm3279685</td>\n",
       "    </tr>\n",
       "  </tbody>\n",
       "</table>\n",
       "</div>"
      ],
      "text/plain": [
       "             tconst   directors              writers\n",
       "4584112  tt18481864  nm11138475                   \\N\n",
       "1139087  tt10309314          \\N                   \\N\n",
       "7698294  tt33808733   nm2351889                   \\N\n",
       "9122290   tt6494082   nm3308068            nm3308068\n",
       "2643079  tt13161464          \\N                   \\N\n",
       "8499354   tt5036578   nm6501104            nm6501104\n",
       "5577728  tt23264794          \\N                   \\N\n",
       "438875    tt0452583   nm0171315  nm2091193,nm1885615\n",
       "535947    tt0551464   nm0739298            nm0739298\n",
       "9435065   tt7235518   nm3289740  nm1820958,nm3279685"
      ]
     },
     "execution_count": 46,
     "metadata": {},
     "output_type": "execute_result"
    }
   ],
   "source": [
    "df_t_crew_Clean.sample(10)"
   ]
  },
  {
   "cell_type": "code",
   "execution_count": 34,
   "metadata": {},
   "outputs": [
    {
     "name": "stdout",
     "output_type": "stream",
     "text": [
      "les valeurs null sont : \n",
      " tconst       0\n",
      "directors    0\n",
      "writers      0\n",
      "dtype: int64\n",
      "les valeurs duppliqués sont : 0\n"
     ]
    },
    {
     "data": {
      "text/plain": [
       "(None, None)"
      ]
     },
     "execution_count": 34,
     "metadata": {},
     "output_type": "execute_result"
    }
   ],
   "source": [
    "valNull = df_t_crew_Clean.isna().sum()\n",
    "duplicated = df_t_crew_Clean.duplicated().sum()\n",
    "\n",
    "print(f'les valeurs null sont : \\n {valNull}'), print(f'les valeurs duppliqués sont : {duplicated}')\n",
    "\n",
    "# pas de lignes duppliquée. par contre dnas le tableaux les valeurs null sont exprimés en\\N"
   ]
  },
  {
   "cell_type": "code",
   "execution_count": null,
   "metadata": {},
   "outputs": [
    {
     "data": {
      "text/html": [
       "<div>\n",
       "<style scoped>\n",
       "    .dataframe tbody tr th:only-of-type {\n",
       "        vertical-align: middle;\n",
       "    }\n",
       "\n",
       "    .dataframe tbody tr th {\n",
       "        vertical-align: top;\n",
       "    }\n",
       "\n",
       "    .dataframe thead th {\n",
       "        text-align: right;\n",
       "    }\n",
       "</style>\n",
       "<table border=\"1\" class=\"dataframe\">\n",
       "  <thead>\n",
       "    <tr style=\"text-align: right;\">\n",
       "      <th></th>\n",
       "      <th>tconst</th>\n",
       "      <th>directors</th>\n",
       "      <th>writers</th>\n",
       "    </tr>\n",
       "  </thead>\n",
       "  <tbody>\n",
       "  </tbody>\n",
       "</table>\n",
       "</div>"
      ],
      "text/plain": [
       "Empty DataFrame\n",
       "Columns: [tconst, directors, writers]\n",
       "Index: []"
      ]
     },
     "execution_count": 5,
     "metadata": {},
     "output_type": "execute_result"
    }
   ],
   "source": [
    "df_t_crew_Clean[df_t_crew_Clean['tconst'] =='\\\\N']"
   ]
  },
  {
   "cell_type": "code",
   "execution_count": null,
   "metadata": {},
   "outputs": [
    {
     "data": {
      "text/html": [
       "<div>\n",
       "<style scoped>\n",
       "    .dataframe tbody tr th:only-of-type {\n",
       "        vertical-align: middle;\n",
       "    }\n",
       "\n",
       "    .dataframe tbody tr th {\n",
       "        vertical-align: top;\n",
       "    }\n",
       "\n",
       "    .dataframe thead th {\n",
       "        text-align: right;\n",
       "    }\n",
       "</style>\n",
       "<table border=\"1\" class=\"dataframe\">\n",
       "  <thead>\n",
       "    <tr style=\"text-align: right;\">\n",
       "      <th></th>\n",
       "      <th>tconst</th>\n",
       "      <th>directors</th>\n",
       "      <th>writers</th>\n",
       "    </tr>\n",
       "  </thead>\n",
       "  <tbody>\n",
       "    <tr>\n",
       "      <th>38</th>\n",
       "      <td>tt0000039</td>\n",
       "      <td>\\N</td>\n",
       "      <td>\\N</td>\n",
       "    </tr>\n",
       "    <tr>\n",
       "      <th>103</th>\n",
       "      <td>tt0000104</td>\n",
       "      <td>\\N</td>\n",
       "      <td>\\N</td>\n",
       "    </tr>\n",
       "    <tr>\n",
       "      <th>124</th>\n",
       "      <td>tt0000125</td>\n",
       "      <td>\\N</td>\n",
       "      <td>\\N</td>\n",
       "    </tr>\n",
       "    <tr>\n",
       "      <th>174</th>\n",
       "      <td>tt0000176</td>\n",
       "      <td>\\N</td>\n",
       "      <td>\\N</td>\n",
       "    </tr>\n",
       "    <tr>\n",
       "      <th>197</th>\n",
       "      <td>tt0000199</td>\n",
       "      <td>\\N</td>\n",
       "      <td>\\N</td>\n",
       "    </tr>\n",
       "    <tr>\n",
       "      <th>...</th>\n",
       "      <td>...</td>\n",
       "      <td>...</td>\n",
       "      <td>...</td>\n",
       "    </tr>\n",
       "    <tr>\n",
       "      <th>10600573</th>\n",
       "      <td>tt9916738</td>\n",
       "      <td>\\N</td>\n",
       "      <td>nm0665704</td>\n",
       "    </tr>\n",
       "    <tr>\n",
       "      <th>10600574</th>\n",
       "      <td>tt9916740</td>\n",
       "      <td>\\N</td>\n",
       "      <td>\\N</td>\n",
       "    </tr>\n",
       "    <tr>\n",
       "      <th>10600575</th>\n",
       "      <td>tt9916742</td>\n",
       "      <td>\\N</td>\n",
       "      <td>\\N</td>\n",
       "    </tr>\n",
       "    <tr>\n",
       "      <th>10600586</th>\n",
       "      <td>tt9916766</td>\n",
       "      <td>\\N</td>\n",
       "      <td>\\N</td>\n",
       "    </tr>\n",
       "    <tr>\n",
       "      <th>10600591</th>\n",
       "      <td>tt9916778</td>\n",
       "      <td>\\N</td>\n",
       "      <td>\\N</td>\n",
       "    </tr>\n",
       "  </tbody>\n",
       "</table>\n",
       "<p>4047951 rows × 3 columns</p>\n",
       "</div>"
      ],
      "text/plain": [
       "             tconst directors    writers\n",
       "38        tt0000039        \\N         \\N\n",
       "103       tt0000104        \\N         \\N\n",
       "124       tt0000125        \\N         \\N\n",
       "174       tt0000176        \\N         \\N\n",
       "197       tt0000199        \\N         \\N\n",
       "...             ...       ...        ...\n",
       "10600573  tt9916738        \\N  nm0665704\n",
       "10600574  tt9916740        \\N         \\N\n",
       "10600575  tt9916742        \\N         \\N\n",
       "10600586  tt9916766        \\N         \\N\n",
       "10600591  tt9916778        \\N         \\N\n",
       "\n",
       "[4047951 rows x 3 columns]"
      ]
     },
     "execution_count": 21,
     "metadata": {},
     "output_type": "execute_result"
    }
   ],
   "source": [
    "df_t_crew_Clean[df_t_crew_Clean['directors'] =='\\\\N']"
   ]
  },
  {
   "cell_type": "code",
   "execution_count": null,
   "metadata": {},
   "outputs": [
    {
     "data": {
      "text/html": [
       "<div>\n",
       "<style scoped>\n",
       "    .dataframe tbody tr th:only-of-type {\n",
       "        vertical-align: middle;\n",
       "    }\n",
       "\n",
       "    .dataframe tbody tr th {\n",
       "        vertical-align: top;\n",
       "    }\n",
       "\n",
       "    .dataframe thead th {\n",
       "        text-align: right;\n",
       "    }\n",
       "</style>\n",
       "<table border=\"1\" class=\"dataframe\">\n",
       "  <thead>\n",
       "    <tr style=\"text-align: right;\">\n",
       "      <th></th>\n",
       "      <th>tconst</th>\n",
       "      <th>directors</th>\n",
       "      <th>writers</th>\n",
       "    </tr>\n",
       "  </thead>\n",
       "  <tbody>\n",
       "  </tbody>\n",
       "</table>\n",
       "</div>"
      ],
      "text/plain": [
       "Empty DataFrame\n",
       "Columns: [tconst, directors, writers]\n",
       "Index: []"
      ]
     },
     "execution_count": 11,
     "metadata": {},
     "output_type": "execute_result"
    }
   ],
   "source": [
    "df_t_crew_Clean[df_t_crew_Clean['writers'] =='\\\\N']"
   ]
  },
  {
   "cell_type": "code",
   "execution_count": 5,
   "metadata": {},
   "outputs": [],
   "source": [
    "#Etape 1 : transformer les valeurs en liste : \n",
    "df_t_crew_Clean['directors'] = df_t_crew_Clean['directors'].apply(lambda x: x.strip().split(',') if isinstance(x,str) else x )\n",
    "df_t_crew_Clean['writers'] = df_t_crew_Clean['writers'].apply(lambda x: x.strip().split(',') if isinstance(x,str) else x)"
   ]
  },
  {
   "cell_type": "code",
   "execution_count": 6,
   "metadata": {},
   "outputs": [],
   "source": [
    "#Etape 2 : transformer le \\N en NaN ==> deux méthode (méthode 1 voir t_basics , méthode 2 (JP) voir ci-dessous)\n",
    "df_t_crew_Clean['directors'] = df_t_crew_Clean['directors'].replace(r'\\N', np.nan)\n",
    "df_t_crew_Clean['writers'] = df_t_crew_Clean['writers'].replace(r'\\N', np.nan)\n"
   ]
  },
  {
   "cell_type": "code",
   "execution_count": null,
   "metadata": {},
   "outputs": [],
   "source": [
    "# Etape 3 (en second temps): eclater la liste en plusieurs lignes, PS je constate que cela s'applique uniquement sur une des colonnes ici c'est le dernier code Writers, \n",
    "# ==> attribuer la valeur dans DF pour pouvoir exécuter les deux explode()\n",
    "df_t_crew_Clean = df_t_crew_Clean.explode('directors')\n",
    "df_t_crew_Clean = df_t_crew_Clean.explode('writers')"
   ]
  },
  {
   "cell_type": "code",
   "execution_count": 7,
   "metadata": {},
   "outputs": [
    {
     "data": {
      "text/plain": [
       "tconst       0\n",
       "directors    0\n",
       "writers      0\n",
       "dtype: int64"
      ]
     },
     "execution_count": 7,
     "metadata": {},
     "output_type": "execute_result"
    }
   ],
   "source": [
    "df_t_crew_Clean.isna().sum()"
   ]
  },
  {
   "cell_type": "code",
   "execution_count": 49,
   "metadata": {},
   "outputs": [
    {
     "data": {
      "text/plain": [
       "tconst             0\n",
       "directors    4047951\n",
       "writers      4708765\n",
       "dtype: int64"
      ]
     },
     "execution_count": 49,
     "metadata": {},
     "output_type": "execute_result"
    }
   ],
   "source": [
    "df_t_crew_Clean.isna().sum()"
   ]
  },
  {
   "cell_type": "code",
   "execution_count": null,
   "metadata": {},
   "outputs": [],
   "source": []
  },
  {
   "cell_type": "code",
   "execution_count": 52,
   "metadata": {},
   "outputs": [
    {
     "name": "stdout",
     "output_type": "stream",
     "text": [
      "<class 'pandas.core.frame.DataFrame'>\n",
      "RangeIndex: 10600630 entries, 0 to 10600629\n",
      "Data columns (total 3 columns):\n",
      " #   Column     Dtype \n",
      "---  ------     ----- \n",
      " 0   tconst     object\n",
      " 1   directors  object\n",
      " 2   writers    object\n",
      "dtypes: object(3)\n",
      "memory usage: 242.6+ MB\n"
     ]
    }
   ],
   "source": [
    "df_t_crew_Clean.info()"
   ]
  },
  {
   "cell_type": "code",
   "execution_count": 54,
   "metadata": {},
   "outputs": [],
   "source": [
    "df_t_crew_Clean.to_csv('df_t_crew_clean.csv', index = False)"
   ]
  }
 ],
 "metadata": {
  "kernelspec": {
   "display_name": "base",
   "language": "python",
   "name": "python3"
  },
  "language_info": {
   "codemirror_mode": {
    "name": "ipython",
    "version": 3
   },
   "file_extension": ".py",
   "mimetype": "text/x-python",
   "name": "python",
   "nbconvert_exporter": "python",
   "pygments_lexer": "ipython3",
   "version": "3.12.7"
  }
 },
 "nbformat": 4,
 "nbformat_minor": 2
}
