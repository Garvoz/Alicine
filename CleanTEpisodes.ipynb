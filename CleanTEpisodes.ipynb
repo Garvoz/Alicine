{
 "cells": [
  {
   "cell_type": "code",
   "execution_count": 1,
   "metadata": {},
   "outputs": [],
   "source": [
    "import pandas as pd\n",
    "import numpy as np"
   ]
  },
  {
   "cell_type": "code",
   "execution_count": null,
   "metadata": {},
   "outputs": [],
   "source": [
    "# import des modules :\n",
    "import pandas as pd\n",
    "import numpy as np\n",
    "\n",
    "#Récupération de la BD :\n",
    "link5 = \"./BD/title.episode.tsv.gz\"\n",
    "df_t_episode = pd.read_csv(link5, sep = \"\\t\", compression = \"gzip\")\n",
    "\n",
    "# Création d'une copie :\n",
    "df_t_episode_Clean= df_t_episode.copy()\n",
    "\n",
    "# Netoyage des données:\n",
    "valNull = df_t_episode_Clean.isna().sum() #0 valeurs\n",
    "duplicated = df_t_episode_Clean.duplicated().sum()  # 0valeurs mais y a \\N à traiter\n",
    "\n",
    "#Etape 1 : Transformation des valeurs \\N en NAN\n",
    "df_t_episode_Clean['seasonNumber'] = df_t_episode_Clean ['seasonNumber'].replace(r'\\N', np.nan)\n",
    "df_t_episode_Clean['episodeNumber'] = df_t_episode_Clean ['episodeNumber'].replace(r'\\N', np.nan)\n",
    "df_t_episode_Clean['IdSerie'] = True #création d'une colonne qui service lors du merge avec title basic pour distinguer les séries.\n",
    "\n",
    "# Etape intremédiaire : copy pour la suppression de colonne:\n",
    "df_t_episode_Clean1 = df_t_episode_Clean.copy()\n",
    "\n",
    "#Etape : suppression des colonne qu'on va pas utiliser:\n",
    "df_t_episode_Clean1 = df_t_episode_Clean1.drop(columns = ['seasonNumber', 'episodeNumber'])\n"
   ]
  },
  {
   "cell_type": "code",
   "execution_count": null,
   "metadata": {},
   "outputs": [],
   "source": [
    "link3 = \"./BD/title.basics.tsv.gz\"\n",
    "df_t_basics = pd.read_csv(link3, sep = \"\\t\", compression = \"gzip\")"
   ]
  },
  {
   "cell_type": "code",
   "execution_count": 2,
   "metadata": {},
   "outputs": [],
   "source": [
    "link5 = \"./BD/title.episode.tsv.gz\"\n",
    "df_t_episode = pd.read_csv(link5, sep = \"\\t\", compression = \"gzip\")\n",
    "\n",
    "df_t_episode_Clean= df_t_episode.copy()"
   ]
  },
  {
   "cell_type": "code",
   "execution_count": 3,
   "metadata": {},
   "outputs": [
    {
     "data": {
      "text/html": [
       "<div>\n",
       "<style scoped>\n",
       "    .dataframe tbody tr th:only-of-type {\n",
       "        vertical-align: middle;\n",
       "    }\n",
       "\n",
       "    .dataframe tbody tr th {\n",
       "        vertical-align: top;\n",
       "    }\n",
       "\n",
       "    .dataframe thead th {\n",
       "        text-align: right;\n",
       "    }\n",
       "</style>\n",
       "<table border=\"1\" class=\"dataframe\">\n",
       "  <thead>\n",
       "    <tr style=\"text-align: right;\">\n",
       "      <th></th>\n",
       "      <th>tconst</th>\n",
       "      <th>parentTconst</th>\n",
       "      <th>seasonNumber</th>\n",
       "      <th>episodeNumber</th>\n",
       "      <th>IdSerie</th>\n",
       "    </tr>\n",
       "  </thead>\n",
       "  <tbody>\n",
       "    <tr>\n",
       "      <th>0</th>\n",
       "      <td>tt0031458</td>\n",
       "      <td>tt32857063</td>\n",
       "      <td>NaN</td>\n",
       "      <td>NaN</td>\n",
       "      <td>True</td>\n",
       "    </tr>\n",
       "    <tr>\n",
       "      <th>1</th>\n",
       "      <td>tt0041951</td>\n",
       "      <td>tt0041038</td>\n",
       "      <td>1</td>\n",
       "      <td>9</td>\n",
       "      <td>True</td>\n",
       "    </tr>\n",
       "    <tr>\n",
       "      <th>2</th>\n",
       "      <td>tt0042816</td>\n",
       "      <td>tt0989125</td>\n",
       "      <td>1</td>\n",
       "      <td>17</td>\n",
       "      <td>True</td>\n",
       "    </tr>\n",
       "    <tr>\n",
       "      <th>3</th>\n",
       "      <td>tt0042889</td>\n",
       "      <td>tt0989125</td>\n",
       "      <td>NaN</td>\n",
       "      <td>NaN</td>\n",
       "      <td>True</td>\n",
       "    </tr>\n",
       "    <tr>\n",
       "      <th>4</th>\n",
       "      <td>tt0043426</td>\n",
       "      <td>tt0040051</td>\n",
       "      <td>3</td>\n",
       "      <td>42</td>\n",
       "      <td>True</td>\n",
       "    </tr>\n",
       "    <tr>\n",
       "      <th>...</th>\n",
       "      <td>...</td>\n",
       "      <td>...</td>\n",
       "      <td>...</td>\n",
       "      <td>...</td>\n",
       "      <td>...</td>\n",
       "    </tr>\n",
       "    <tr>\n",
       "      <th>8654981</th>\n",
       "      <td>tt9916846</td>\n",
       "      <td>tt1289683</td>\n",
       "      <td>3</td>\n",
       "      <td>18</td>\n",
       "      <td>True</td>\n",
       "    </tr>\n",
       "    <tr>\n",
       "      <th>8654982</th>\n",
       "      <td>tt9916848</td>\n",
       "      <td>tt1289683</td>\n",
       "      <td>3</td>\n",
       "      <td>17</td>\n",
       "      <td>True</td>\n",
       "    </tr>\n",
       "    <tr>\n",
       "      <th>8654983</th>\n",
       "      <td>tt9916850</td>\n",
       "      <td>tt1289683</td>\n",
       "      <td>3</td>\n",
       "      <td>19</td>\n",
       "      <td>True</td>\n",
       "    </tr>\n",
       "    <tr>\n",
       "      <th>8654984</th>\n",
       "      <td>tt9916852</td>\n",
       "      <td>tt1289683</td>\n",
       "      <td>3</td>\n",
       "      <td>20</td>\n",
       "      <td>True</td>\n",
       "    </tr>\n",
       "    <tr>\n",
       "      <th>8654985</th>\n",
       "      <td>tt9916880</td>\n",
       "      <td>tt0985991</td>\n",
       "      <td>4</td>\n",
       "      <td>2</td>\n",
       "      <td>True</td>\n",
       "    </tr>\n",
       "  </tbody>\n",
       "</table>\n",
       "<p>8654986 rows × 5 columns</p>\n",
       "</div>"
      ],
      "text/plain": [
       "            tconst parentTconst seasonNumber episodeNumber  IdSerie\n",
       "0        tt0031458   tt32857063          NaN           NaN     True\n",
       "1        tt0041951    tt0041038            1             9     True\n",
       "2        tt0042816    tt0989125            1            17     True\n",
       "3        tt0042889    tt0989125          NaN           NaN     True\n",
       "4        tt0043426    tt0040051            3            42     True\n",
       "...            ...          ...          ...           ...      ...\n",
       "8654981  tt9916846    tt1289683            3            18     True\n",
       "8654982  tt9916848    tt1289683            3            17     True\n",
       "8654983  tt9916850    tt1289683            3            19     True\n",
       "8654984  tt9916852    tt1289683            3            20     True\n",
       "8654985  tt9916880    tt0985991            4             2     True\n",
       "\n",
       "[8654986 rows x 5 columns]"
      ]
     },
     "execution_count": 3,
     "metadata": {},
     "output_type": "execute_result"
    }
   ],
   "source": [
    "df_t_episode_Clean['seasonNumber'] = df_t_episode_Clean ['seasonNumber'].replace(r'\\N', np.nan)\n",
    "df_t_episode_Clean['episodeNumber'] = df_t_episode_Clean ['episodeNumber'].replace(r'\\N', np.nan)\n",
    "df_t_episode_Clean['IdSerie'] = True\n",
    "df_t_episode_Clean"
   ]
  },
  {
   "cell_type": "code",
   "execution_count": 7,
   "metadata": {},
   "outputs": [],
   "source": [
    "df_t_episode_Clean1 = df_t_episode_Clean.copy()"
   ]
  },
  {
   "cell_type": "code",
   "execution_count": 8,
   "metadata": {},
   "outputs": [],
   "source": [
    "df_t_episode_Clean1 = df_t_episode_Clean1.drop(columns = ['seasonNumber', 'episodeNumber'])"
   ]
  },
  {
   "cell_type": "code",
   "execution_count": 11,
   "metadata": {},
   "outputs": [],
   "source": [
    "df_t_episode_Clean1.to_csv('df_t_episode_clean.csv', index = False)"
   ]
  },
  {
   "cell_type": "code",
   "execution_count": 7,
   "metadata": {},
   "outputs": [
    {
     "data": {
      "text/plain": [
       "tconst                 0\n",
       "parentTconst           0\n",
       "seasonNumber     1745883\n",
       "episodeNumber    1745883\n",
       "IdSerie                0\n",
       "dtype: int64"
      ]
     },
     "execution_count": 7,
     "metadata": {},
     "output_type": "execute_result"
    }
   ],
   "source": [
    "df_t_episode.isna().sum()"
   ]
  },
  {
   "cell_type": "code",
   "execution_count": null,
   "metadata": {},
   "outputs": [],
   "source": [
    "# Vu le nombre important des valeurs vide = 1745883/8654986c = 20.17%\n",
    "# vérifier s=avec un ler=ge si possible de récuperer les info depuis TBasics"
   ]
  },
  {
   "cell_type": "code",
   "execution_count": 9,
   "metadata": {},
   "outputs": [
    {
     "ename": "KeyError",
     "evalue": "\"['IdSerie'] not in index\"",
     "output_type": "error",
     "traceback": [
      "\u001b[1;31m---------------------------------------------------------------------------\u001b[0m",
      "\u001b[1;31mKeyError\u001b[0m                                  Traceback (most recent call last)",
      "Cell \u001b[1;32mIn[9], line 2\u001b[0m\n\u001b[0;32m      1\u001b[0m \u001b[38;5;66;03m#Filtrage table df_t_basics et merge\u001b[39;00m\n\u001b[1;32m----> 2\u001b[0m df_t_episode_tBasics \u001b[38;5;241m=\u001b[39m df_t_episode[[\u001b[38;5;124m'\u001b[39m\u001b[38;5;124mtconst\u001b[39m\u001b[38;5;124m'\u001b[39m, \u001b[38;5;124m'\u001b[39m\u001b[38;5;124mparentTconst\u001b[39m\u001b[38;5;124m'\u001b[39m, \u001b[38;5;124m'\u001b[39m\u001b[38;5;124mseasonNumber\u001b[39m\u001b[38;5;124m'\u001b[39m,\u001b[38;5;124m'\u001b[39m\u001b[38;5;124mepisodeNumber\u001b[39m\u001b[38;5;124m'\u001b[39m , \u001b[38;5;124m\"\u001b[39m\u001b[38;5;124mIdSerie\u001b[39m\u001b[38;5;124m\"\u001b[39m]]\n\u001b[0;32m      3\u001b[0m df_t_episode_tBasics  \u001b[38;5;241m=\u001b[39m pd\u001b[38;5;241m.\u001b[39mmerge(df_t_basics, df_t_basics, how \u001b[38;5;241m=\u001b[39m \u001b[38;5;124m'\u001b[39m\u001b[38;5;124mleft\u001b[39m\u001b[38;5;124m'\u001b[39m, on \u001b[38;5;241m=\u001b[39m \u001b[38;5;124m'\u001b[39m\u001b[38;5;124mtconst\u001b[39m\u001b[38;5;124m'\u001b[39m)\n",
      "File \u001b[1;32mc:\\Users\\ibtis\\anaconda3\\Lib\\site-packages\\pandas\\core\\frame.py:4108\u001b[0m, in \u001b[0;36mDataFrame.__getitem__\u001b[1;34m(self, key)\u001b[0m\n\u001b[0;32m   4106\u001b[0m     \u001b[38;5;28;01mif\u001b[39;00m is_iterator(key):\n\u001b[0;32m   4107\u001b[0m         key \u001b[38;5;241m=\u001b[39m \u001b[38;5;28mlist\u001b[39m(key)\n\u001b[1;32m-> 4108\u001b[0m     indexer \u001b[38;5;241m=\u001b[39m \u001b[38;5;28mself\u001b[39m\u001b[38;5;241m.\u001b[39mcolumns\u001b[38;5;241m.\u001b[39m_get_indexer_strict(key, \u001b[38;5;124m\"\u001b[39m\u001b[38;5;124mcolumns\u001b[39m\u001b[38;5;124m\"\u001b[39m)[\u001b[38;5;241m1\u001b[39m]\n\u001b[0;32m   4110\u001b[0m \u001b[38;5;66;03m# take() does not accept boolean indexers\u001b[39;00m\n\u001b[0;32m   4111\u001b[0m \u001b[38;5;28;01mif\u001b[39;00m \u001b[38;5;28mgetattr\u001b[39m(indexer, \u001b[38;5;124m\"\u001b[39m\u001b[38;5;124mdtype\u001b[39m\u001b[38;5;124m\"\u001b[39m, \u001b[38;5;28;01mNone\u001b[39;00m) \u001b[38;5;241m==\u001b[39m \u001b[38;5;28mbool\u001b[39m:\n",
      "File \u001b[1;32mc:\\Users\\ibtis\\anaconda3\\Lib\\site-packages\\pandas\\core\\indexes\\base.py:6200\u001b[0m, in \u001b[0;36mIndex._get_indexer_strict\u001b[1;34m(self, key, axis_name)\u001b[0m\n\u001b[0;32m   6197\u001b[0m \u001b[38;5;28;01melse\u001b[39;00m:\n\u001b[0;32m   6198\u001b[0m     keyarr, indexer, new_indexer \u001b[38;5;241m=\u001b[39m \u001b[38;5;28mself\u001b[39m\u001b[38;5;241m.\u001b[39m_reindex_non_unique(keyarr)\n\u001b[1;32m-> 6200\u001b[0m \u001b[38;5;28mself\u001b[39m\u001b[38;5;241m.\u001b[39m_raise_if_missing(keyarr, indexer, axis_name)\n\u001b[0;32m   6202\u001b[0m keyarr \u001b[38;5;241m=\u001b[39m \u001b[38;5;28mself\u001b[39m\u001b[38;5;241m.\u001b[39mtake(indexer)\n\u001b[0;32m   6203\u001b[0m \u001b[38;5;28;01mif\u001b[39;00m \u001b[38;5;28misinstance\u001b[39m(key, Index):\n\u001b[0;32m   6204\u001b[0m     \u001b[38;5;66;03m# GH 42790 - Preserve name from an Index\u001b[39;00m\n",
      "File \u001b[1;32mc:\\Users\\ibtis\\anaconda3\\Lib\\site-packages\\pandas\\core\\indexes\\base.py:6252\u001b[0m, in \u001b[0;36mIndex._raise_if_missing\u001b[1;34m(self, key, indexer, axis_name)\u001b[0m\n\u001b[0;32m   6249\u001b[0m     \u001b[38;5;28;01mraise\u001b[39;00m \u001b[38;5;167;01mKeyError\u001b[39;00m(\u001b[38;5;124mf\u001b[39m\u001b[38;5;124m\"\u001b[39m\u001b[38;5;124mNone of [\u001b[39m\u001b[38;5;132;01m{\u001b[39;00mkey\u001b[38;5;132;01m}\u001b[39;00m\u001b[38;5;124m] are in the [\u001b[39m\u001b[38;5;132;01m{\u001b[39;00maxis_name\u001b[38;5;132;01m}\u001b[39;00m\u001b[38;5;124m]\u001b[39m\u001b[38;5;124m\"\u001b[39m)\n\u001b[0;32m   6251\u001b[0m not_found \u001b[38;5;241m=\u001b[39m \u001b[38;5;28mlist\u001b[39m(ensure_index(key)[missing_mask\u001b[38;5;241m.\u001b[39mnonzero()[\u001b[38;5;241m0\u001b[39m]]\u001b[38;5;241m.\u001b[39munique())\n\u001b[1;32m-> 6252\u001b[0m \u001b[38;5;28;01mraise\u001b[39;00m \u001b[38;5;167;01mKeyError\u001b[39;00m(\u001b[38;5;124mf\u001b[39m\u001b[38;5;124m\"\u001b[39m\u001b[38;5;132;01m{\u001b[39;00mnot_found\u001b[38;5;132;01m}\u001b[39;00m\u001b[38;5;124m not in index\u001b[39m\u001b[38;5;124m\"\u001b[39m)\n",
      "\u001b[1;31mKeyError\u001b[0m: \"['IdSerie'] not in index\""
     ]
    }
   ],
   "source": [
    "#Filtrage table df_t_basics et merge\n",
    "df_t_episode_tBasics = df_t_episode[['tconst', 'parentTconst', 'seasonNumber','episodeNumber' , \"IdSerie\"]]\n",
    "df_t_episode_tBasics  = pd.merge(df_t_basics, df_t_basics, how = 'left', on = 'tconst')\n",
    "# df_t_episode_tBasics.sort_values('nconst')"
   ]
  }
 ],
 "metadata": {
  "kernelspec": {
   "display_name": "base",
   "language": "python",
   "name": "python3"
  },
  "language_info": {
   "codemirror_mode": {
    "name": "ipython",
    "version": 3
   },
   "file_extension": ".py",
   "mimetype": "text/x-python",
   "name": "python",
   "nbconvert_exporter": "python",
   "pygments_lexer": "ipython3",
   "version": "3.12.7"
  }
 },
 "nbformat": 4,
 "nbformat_minor": 2
}
