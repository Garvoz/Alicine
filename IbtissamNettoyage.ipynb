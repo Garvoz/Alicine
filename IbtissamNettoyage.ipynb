{
 "cells": [
  {
   "cell_type": "code",
   "execution_count": 71,
   "metadata": {},
   "outputs": [],
   "source": [
    "import pandas as pd\n",
    "import numpy as np"
   ]
  },
  {
   "cell_type": "code",
   "execution_count": 8,
   "metadata": {},
   "outputs": [],
   "source": [
    "link1 = \"./BD/name.basics.tsv.gz\"\n",
    "# link2 = \"./BD/title.akas.tsv.gz\"\n",
    "# link3 = \"./BD/title.basics.tsv.gz\"\n",
    "# link4 = \"./BD/title.crew.tsv.gz\"\n",
    "# link5 = \"./BD/title.episode.tsv.gz\"\n",
    "# link6 = \"./BD/title.principals.tsv.gz\"\n",
    "# link7 = \"./BD/title.ratings.tsv.gz\"\n",
    "# link8 = \"./BD/tmdb_full.csv\"\n",
    "df_basic_name = pd.read_csv(link1, sep = \"\\t\", compression = \"gzip\", nrows = 1000)\n",
    "# df_t_akas = pd.read_csv(link2, sep = \"\\t\", compression = \"gzip\", nrows = 1000)\n",
    "# df_t_basics = pd.read_csv(link3, sep = \"\\t\", compression = \"gzip\", nrows = 1000)\n",
    "# df_t_crew = pd.read_csv(link4, sep = \"\\t\", compression = \"gzip\", nrows = 1000)\n",
    "# df_t_episode = pd.read_csv(link5, sep = \"\\t\", compression = \"gzip\", nrows = 1000)\n",
    "# df_t_principals = pd.read_csv(link6, sep = \"\\t\", compression = \"gzip\", nrows = 1000)\n",
    "# df_t_ratings = pd.read_csv(link7, sep = \"\\t\", compression = \"gzip\", nrows = 1000)\n",
    "# df_tmdb = pd.read_csv(link8, nrows = 1000)"
   ]
  },
  {
   "cell_type": "code",
   "execution_count": 63,
   "metadata": {},
   "outputs": [],
   "source": [
    "link4 = \"./BD/title.crew.tsv.gz\"\n",
    "df_t_crew = pd.read_csv(link4, sep = \"\\t\", compression = \"gzip\", nrows = 1000)"
   ]
  },
  {
   "cell_type": "code",
   "execution_count": null,
   "metadata": {},
   "outputs": [
    {
     "name": "stdout",
     "output_type": "stream",
     "text": [
      "<class 'pandas.core.frame.DataFrame'>\n",
      "RangeIndex: 1000 entries, 0 to 999\n",
      "Data columns (total 3 columns):\n",
      " #   Column     Non-Null Count  Dtype \n",
      "---  ------     --------------  ----- \n",
      " 0   tconst     1000 non-null   object\n",
      " 1   directors  1000 non-null   object\n",
      " 2   writers    1000 non-null   object\n",
      "dtypes: object(3)\n",
      "memory usage: 23.6+ KB\n"
     ]
    }
   ],
   "source": [
    "df_t_crew\n",
    "df_t_crew.info()"
   ]
  },
  {
   "cell_type": "code",
   "execution_count": 57,
   "metadata": {},
   "outputs": [
    {
     "data": {
      "text/plain": [
       "tconst       0\n",
       "directors    0\n",
       "writers      0\n",
       "dtype: int64"
      ]
     },
     "execution_count": 57,
     "metadata": {},
     "output_type": "execute_result"
    }
   ],
   "source": [
    "df_t_crew.isnull().sum()"
   ]
  },
  {
   "cell_type": "code",
   "execution_count": null,
   "metadata": {},
   "outputs": [],
   "source": [
    "#Etape 1 : transformer les valeurs en liste : \n",
    "df_t_crew['directors'] = df_t_crew['directors'].apply(lambda x: x.strip().split(',') )\n",
    "df_t_crew['writers'] = df_t_crew['writers'].apply(lambda x: x.strip().split(',') )"
   ]
  },
  {
   "cell_type": "code",
   "execution_count": 67,
   "metadata": {},
   "outputs": [
    {
     "data": {
      "text/html": [
       "<div>\n",
       "<style scoped>\n",
       "    .dataframe tbody tr th:only-of-type {\n",
       "        vertical-align: middle;\n",
       "    }\n",
       "\n",
       "    .dataframe tbody tr th {\n",
       "        vertical-align: top;\n",
       "    }\n",
       "\n",
       "    .dataframe thead th {\n",
       "        text-align: right;\n",
       "    }\n",
       "</style>\n",
       "<table border=\"1\" class=\"dataframe\">\n",
       "  <thead>\n",
       "    <tr style=\"text-align: right;\">\n",
       "      <th></th>\n",
       "      <th>tconst</th>\n",
       "      <th>directors</th>\n",
       "      <th>writers</th>\n",
       "    </tr>\n",
       "  </thead>\n",
       "  <tbody>\n",
       "    <tr>\n",
       "      <th>0</th>\n",
       "      <td>tt0000001</td>\n",
       "      <td>[nm0005690]</td>\n",
       "      <td>[\\N]</td>\n",
       "    </tr>\n",
       "    <tr>\n",
       "      <th>1</th>\n",
       "      <td>tt0000002</td>\n",
       "      <td>[nm0721526]</td>\n",
       "      <td>[\\N]</td>\n",
       "    </tr>\n",
       "    <tr>\n",
       "      <th>2</th>\n",
       "      <td>tt0000003</td>\n",
       "      <td>[nm0721526]</td>\n",
       "      <td>[\\N]</td>\n",
       "    </tr>\n",
       "    <tr>\n",
       "      <th>3</th>\n",
       "      <td>tt0000004</td>\n",
       "      <td>[nm0721526]</td>\n",
       "      <td>[\\N]</td>\n",
       "    </tr>\n",
       "    <tr>\n",
       "      <th>4</th>\n",
       "      <td>tt0000005</td>\n",
       "      <td>[nm0005690]</td>\n",
       "      <td>[\\N]</td>\n",
       "    </tr>\n",
       "    <tr>\n",
       "      <th>...</th>\n",
       "      <td>...</td>\n",
       "      <td>...</td>\n",
       "      <td>...</td>\n",
       "    </tr>\n",
       "    <tr>\n",
       "      <th>995</th>\n",
       "      <td>tt0001007</td>\n",
       "      <td>[nm0185426]</td>\n",
       "      <td>[\\N]</td>\n",
       "    </tr>\n",
       "    <tr>\n",
       "      <th>996</th>\n",
       "      <td>tt0001008</td>\n",
       "      <td>[nm0205986]</td>\n",
       "      <td>[nm0205986, nm0878494]</td>\n",
       "    </tr>\n",
       "    <tr>\n",
       "      <th>997</th>\n",
       "      <td>tt0001009</td>\n",
       "      <td>[nm0085865]</td>\n",
       "      <td>[\\N]</td>\n",
       "    </tr>\n",
       "    <tr>\n",
       "      <th>998</th>\n",
       "      <td>tt0001010</td>\n",
       "      <td>[nm0185426]</td>\n",
       "      <td>[\\N]</td>\n",
       "    </tr>\n",
       "    <tr>\n",
       "      <th>999</th>\n",
       "      <td>tt0001011</td>\n",
       "      <td>[nm0000428]</td>\n",
       "      <td>[nm0000428]</td>\n",
       "    </tr>\n",
       "  </tbody>\n",
       "</table>\n",
       "<p>1000 rows × 3 columns</p>\n",
       "</div>"
      ],
      "text/plain": [
       "        tconst    directors                 writers\n",
       "0    tt0000001  [nm0005690]                    [\\N]\n",
       "1    tt0000002  [nm0721526]                    [\\N]\n",
       "2    tt0000003  [nm0721526]                    [\\N]\n",
       "3    tt0000004  [nm0721526]                    [\\N]\n",
       "4    tt0000005  [nm0005690]                    [\\N]\n",
       "..         ...          ...                     ...\n",
       "995  tt0001007  [nm0185426]                    [\\N]\n",
       "996  tt0001008  [nm0205986]  [nm0205986, nm0878494]\n",
       "997  tt0001009  [nm0085865]                    [\\N]\n",
       "998  tt0001010  [nm0185426]                    [\\N]\n",
       "999  tt0001011  [nm0000428]             [nm0000428]\n",
       "\n",
       "[1000 rows x 3 columns]"
      ]
     },
     "execution_count": 67,
     "metadata": {},
     "output_type": "execute_result"
    }
   ],
   "source": [
    "df_t_crew"
   ]
  },
  {
   "cell_type": "code",
   "execution_count": null,
   "metadata": {},
   "outputs": [],
   "source": [
    "# Etape 2 (en second temps): eclater la liste en plusieurs lignes, PS je constate que cela s'applique uniquement sur une des colonnes ici c'est le dernier code Writers, \n",
    "# ==> attribuer la valeur dans DF pour pouvoir exécuter les deux explode()\n",
    "# df_t_crew = df_t_crew.explode('directors')\n",
    "# df_t_crew = df_t_crew.explode('writers')\n"
   ]
  },
  {
   "cell_type": "code",
   "execution_count": null,
   "metadata": {},
   "outputs": [
    {
     "data": {
      "text/plain": [
       "tconst       0\n",
       "directors    0\n",
       "writers      0\n",
       "dtype: int64"
      ]
     },
     "execution_count": 59,
     "metadata": {},
     "output_type": "execute_result"
    }
   ],
   "source": [
    "import numpy as np\n",
    "# df_t_crew['directors'] = df_t_crew['directors'].replace('\\\\N', np.nan)\n",
    "# df_t_crew['writers'] = df_t_crew['writers'].replace('\\\\N', np.nan)\n",
    "#Etape 3 : transformer le \\N en NaN =+> deux méthode (méthode 1 voir ci-dessus , méthode 2 (JP) voir ci-dessous)\n",
    "df_t_crew['directors'] = df_t_crew['directors'].replace(r'\\N', np.nan)\n",
    "df_t_crew['writers'] = df_t_crew['writers'].replace(r'\\N', np.nan)\n",
    "df_t_crew.isnull().sum()"
   ]
  },
  {
   "cell_type": "markdown",
   "metadata": {},
   "source": [
    "DF ==> TITRES BASICS"
   ]
  },
  {
   "cell_type": "code",
   "execution_count": 149,
   "metadata": {},
   "outputs": [],
   "source": [
    "link3 = \"./BD/title.basics.tsv.gz\"\n",
    "df_t_basics = pd.read_csv(link3, sep = \"\\t\", compression = \"gzip\", nrows = 1000)"
   ]
  },
  {
   "cell_type": "code",
   "execution_count": 150,
   "metadata": {},
   "outputs": [
    {
     "data": {
      "text/html": [
       "<div>\n",
       "<style scoped>\n",
       "    .dataframe tbody tr th:only-of-type {\n",
       "        vertical-align: middle;\n",
       "    }\n",
       "\n",
       "    .dataframe tbody tr th {\n",
       "        vertical-align: top;\n",
       "    }\n",
       "\n",
       "    .dataframe thead th {\n",
       "        text-align: right;\n",
       "    }\n",
       "</style>\n",
       "<table border=\"1\" class=\"dataframe\">\n",
       "  <thead>\n",
       "    <tr style=\"text-align: right;\">\n",
       "      <th></th>\n",
       "      <th>isAdult</th>\n",
       "    </tr>\n",
       "  </thead>\n",
       "  <tbody>\n",
       "    <tr>\n",
       "      <th>count</th>\n",
       "      <td>1000.0</td>\n",
       "    </tr>\n",
       "    <tr>\n",
       "      <th>mean</th>\n",
       "      <td>0.0</td>\n",
       "    </tr>\n",
       "    <tr>\n",
       "      <th>std</th>\n",
       "      <td>0.0</td>\n",
       "    </tr>\n",
       "    <tr>\n",
       "      <th>min</th>\n",
       "      <td>0.0</td>\n",
       "    </tr>\n",
       "    <tr>\n",
       "      <th>25%</th>\n",
       "      <td>0.0</td>\n",
       "    </tr>\n",
       "    <tr>\n",
       "      <th>50%</th>\n",
       "      <td>0.0</td>\n",
       "    </tr>\n",
       "    <tr>\n",
       "      <th>75%</th>\n",
       "      <td>0.0</td>\n",
       "    </tr>\n",
       "    <tr>\n",
       "      <th>max</th>\n",
       "      <td>0.0</td>\n",
       "    </tr>\n",
       "  </tbody>\n",
       "</table>\n",
       "</div>"
      ],
      "text/plain": [
       "       isAdult\n",
       "count   1000.0\n",
       "mean       0.0\n",
       "std        0.0\n",
       "min        0.0\n",
       "25%        0.0\n",
       "50%        0.0\n",
       "75%        0.0\n",
       "max        0.0"
      ]
     },
     "execution_count": 150,
     "metadata": {},
     "output_type": "execute_result"
    }
   ],
   "source": [
    "df_t_basics.describe()"
   ]
  },
  {
   "cell_type": "code",
   "execution_count": 78,
   "metadata": {},
   "outputs": [
    {
     "data": {
      "text/html": [
       "<div>\n",
       "<style scoped>\n",
       "    .dataframe tbody tr th:only-of-type {\n",
       "        vertical-align: middle;\n",
       "    }\n",
       "\n",
       "    .dataframe tbody tr th {\n",
       "        vertical-align: top;\n",
       "    }\n",
       "\n",
       "    .dataframe thead th {\n",
       "        text-align: right;\n",
       "    }\n",
       "</style>\n",
       "<table border=\"1\" class=\"dataframe\">\n",
       "  <thead>\n",
       "    <tr style=\"text-align: right;\">\n",
       "      <th></th>\n",
       "      <th>tconst</th>\n",
       "      <th>titleType</th>\n",
       "      <th>primaryTitle</th>\n",
       "      <th>originalTitle</th>\n",
       "      <th>isAdult</th>\n",
       "      <th>startYear</th>\n",
       "      <th>endYear</th>\n",
       "      <th>runtimeMinutes</th>\n",
       "      <th>genres</th>\n",
       "    </tr>\n",
       "  </thead>\n",
       "  <tbody>\n",
       "    <tr>\n",
       "      <th>12</th>\n",
       "      <td>tt0000013</td>\n",
       "      <td>short</td>\n",
       "      <td>The Photographical Congress Arrives in Lyon</td>\n",
       "      <td>Le débarquement du congrès de photographie à Lyon</td>\n",
       "      <td>0</td>\n",
       "      <td>1895</td>\n",
       "      <td>\\N</td>\n",
       "      <td>1</td>\n",
       "      <td>Documentary,Short</td>\n",
       "    </tr>\n",
       "    <tr>\n",
       "      <th>631</th>\n",
       "      <td>tt0000637</td>\n",
       "      <td>short</td>\n",
       "      <td>The Assassination of the Duke de Guise</td>\n",
       "      <td>L'assassinat du duc de Guise</td>\n",
       "      <td>0</td>\n",
       "      <td>1908</td>\n",
       "      <td>\\N</td>\n",
       "      <td>15</td>\n",
       "      <td>Drama,History,Short</td>\n",
       "    </tr>\n",
       "    <tr>\n",
       "      <th>483</th>\n",
       "      <td>tt0000487</td>\n",
       "      <td>short</td>\n",
       "      <td>The Great Train Robbery</td>\n",
       "      <td>The Great Train Robbery</td>\n",
       "      <td>0</td>\n",
       "      <td>1904</td>\n",
       "      <td>\\N</td>\n",
       "      <td>8</td>\n",
       "      <td>Drama,Short,Western</td>\n",
       "    </tr>\n",
       "    <tr>\n",
       "      <th>989</th>\n",
       "      <td>tt0001001</td>\n",
       "      <td>short</td>\n",
       "      <td>Pippa Passes; or, the Song of Conscience</td>\n",
       "      <td>Pippa Passes; or, The Song of Conscience</td>\n",
       "      <td>0</td>\n",
       "      <td>1909</td>\n",
       "      <td>\\N</td>\n",
       "      <td>11</td>\n",
       "      <td>Drama,Short</td>\n",
       "    </tr>\n",
       "    <tr>\n",
       "      <th>32</th>\n",
       "      <td>tt0000034</td>\n",
       "      <td>short</td>\n",
       "      <td>Arrivée d'un train gare de Vincennes</td>\n",
       "      <td>Arrivée d'un train gare de Vincennes</td>\n",
       "      <td>0</td>\n",
       "      <td>1896</td>\n",
       "      <td>\\N</td>\n",
       "      <td>1</td>\n",
       "      <td>Documentary,Short</td>\n",
       "    </tr>\n",
       "  </tbody>\n",
       "</table>\n",
       "</div>"
      ],
      "text/plain": [
       "        tconst titleType                                 primaryTitle  \\\n",
       "12   tt0000013     short  The Photographical Congress Arrives in Lyon   \n",
       "631  tt0000637     short       The Assassination of the Duke de Guise   \n",
       "483  tt0000487     short                      The Great Train Robbery   \n",
       "989  tt0001001     short     Pippa Passes; or, the Song of Conscience   \n",
       "32   tt0000034     short         Arrivée d'un train gare de Vincennes   \n",
       "\n",
       "                                         originalTitle  isAdult startYear  \\\n",
       "12   Le débarquement du congrès de photographie à Lyon        0      1895   \n",
       "631                       L'assassinat du duc de Guise        0      1908   \n",
       "483                            The Great Train Robbery        0      1904   \n",
       "989           Pippa Passes; or, The Song of Conscience        0      1909   \n",
       "32                Arrivée d'un train gare de Vincennes        0      1896   \n",
       "\n",
       "    endYear runtimeMinutes               genres  \n",
       "12       \\N              1    Documentary,Short  \n",
       "631      \\N             15  Drama,History,Short  \n",
       "483      \\N              8  Drama,Short,Western  \n",
       "989      \\N             11          Drama,Short  \n",
       "32       \\N              1    Documentary,Short  "
      ]
     },
     "execution_count": 78,
     "metadata": {},
     "output_type": "execute_result"
    }
   ],
   "source": [
    "df_t_basics.sample(5)"
   ]
  },
  {
   "cell_type": "code",
   "execution_count": 151,
   "metadata": {},
   "outputs": [
    {
     "name": "stdout",
     "output_type": "stream",
     "text": [
      "<class 'pandas.core.frame.DataFrame'>\n",
      "RangeIndex: 1000 entries, 0 to 999\n",
      "Data columns (total 9 columns):\n",
      " #   Column          Non-Null Count  Dtype \n",
      "---  ------          --------------  ----- \n",
      " 0   tconst          1000 non-null   object\n",
      " 1   titleType       1000 non-null   object\n",
      " 2   primaryTitle    1000 non-null   object\n",
      " 3   originalTitle   1000 non-null   object\n",
      " 4   isAdult         1000 non-null   int64 \n",
      " 5   startYear       1000 non-null   object\n",
      " 6   endYear         1000 non-null   object\n",
      " 7   runtimeMinutes  1000 non-null   object\n",
      " 8   genres          1000 non-null   object\n",
      "dtypes: int64(1), object(8)\n",
      "memory usage: 70.4+ KB\n"
     ]
    }
   ],
   "source": [
    "df_t_basics.info()"
   ]
  },
  {
   "cell_type": "code",
   "execution_count": 99,
   "metadata": {},
   "outputs": [
    {
     "data": {
      "text/plain": [
       "<Axes: >"
      ]
     },
     "execution_count": 99,
     "metadata": {},
     "output_type": "execute_result"
    },
    {
     "data": {
      "image/png": "[encoded data removed]",
      "text/plain": [
       "<Figure size 2500x1000 with 2 Axes>"
      ]
     },
     "metadata": {},
     "output_type": "display_data"
    }
   ],
   "source": [
    "import missingno as msno\n",
    "msno.matrix(df_t_basics)"
   ]
  },
  {
   "cell_type": "code",
   "execution_count": 138,
   "metadata": {},
   "outputs": [
    {
     "data": {
      "text/plain": [
       "tconst            0\n",
       "titleType         0\n",
       "primaryTitle      0\n",
       "originalTitle     0\n",
       "isAdult           0\n",
       "startYear         0\n",
       "endYear           0\n",
       "runtimeMinutes    0\n",
       "genres            0\n",
       "dtype: int64"
      ]
     },
     "execution_count": 138,
     "metadata": {},
     "output_type": "execute_result"
    }
   ],
   "source": [
    "df_t_basics.isnull().sum()"
   ]
  },
  {
   "cell_type": "code",
   "execution_count": 152,
   "metadata": {},
   "outputs": [],
   "source": [
    "#Etape 1 : Transformer en liste : \n",
    "df_t_basics['genres'] = df_t_basics['genres'].apply(lambda x: x.strip().split(',') )\n",
    "# Etape2 : exploser (dans un second temps)\n",
    "# df_t_basics = df_t_basics.explode('genres')"
   ]
  },
  {
   "cell_type": "code",
   "execution_count": 153,
   "metadata": {},
   "outputs": [
    {
     "name": "stderr",
     "output_type": "stream",
     "text": [
      "C:\\Users\\ibtis\\AppData\\Local\\Temp\\ipykernel_31784\\2627006143.py:2: FutureWarning: Downcasting behavior in `replace` is deprecated and will be removed in a future version. To retain the old behavior, explicitly call `result.infer_objects(copy=False)`. To opt-in to the future behavior, set `pd.set_option('future.no_silent_downcasting', True)`\n",
      "  df_t_basics['endYear'] = df_t_basics['endYear'].replace('\\\\N', np.nan)\n"
     ]
    }
   ],
   "source": [
    "df_t_basics['startYear'] = df_t_basics['startYear'].replace('\\\\N', np.nan)\n",
    "df_t_basics['endYear'] = df_t_basics['endYear'].replace('\\\\N', np.nan)\n",
    "df_t_basics['runtimeMinutes'] = df_t_basics['runtimeMinutes'].replace('\\\\N', np.nan)\n",
    "df_t_basics['genres'] = df_t_basics['genres'].replace('\\\\N', np.nan)"
   ]
  },
  {
   "cell_type": "code",
   "execution_count": 155,
   "metadata": {},
   "outputs": [
    {
     "data": {
      "text/html": [
       "<div>\n",
       "<style scoped>\n",
       "    .dataframe tbody tr th:only-of-type {\n",
       "        vertical-align: middle;\n",
       "    }\n",
       "\n",
       "    .dataframe tbody tr th {\n",
       "        vertical-align: top;\n",
       "    }\n",
       "\n",
       "    .dataframe thead th {\n",
       "        text-align: right;\n",
       "    }\n",
       "</style>\n",
       "<table border=\"1\" class=\"dataframe\">\n",
       "  <thead>\n",
       "    <tr style=\"text-align: right;\">\n",
       "      <th></th>\n",
       "      <th>tconst</th>\n",
       "      <th>titleType</th>\n",
       "      <th>primaryTitle</th>\n",
       "      <th>originalTitle</th>\n",
       "      <th>isAdult</th>\n",
       "      <th>startYear</th>\n",
       "      <th>endYear</th>\n",
       "      <th>runtimeMinutes</th>\n",
       "      <th>genres</th>\n",
       "    </tr>\n",
       "  </thead>\n",
       "  <tbody>\n",
       "    <tr>\n",
       "      <th>0</th>\n",
       "      <td>tt0000001</td>\n",
       "      <td>short</td>\n",
       "      <td>Carmencita</td>\n",
       "      <td>Carmencita</td>\n",
       "      <td>0</td>\n",
       "      <td>1894</td>\n",
       "      <td>NaN</td>\n",
       "      <td>1</td>\n",
       "      <td>[Documentary, Short]</td>\n",
       "    </tr>\n",
       "    <tr>\n",
       "      <th>1</th>\n",
       "      <td>tt0000002</td>\n",
       "      <td>short</td>\n",
       "      <td>Le clown et ses chiens</td>\n",
       "      <td>Le clown et ses chiens</td>\n",
       "      <td>0</td>\n",
       "      <td>1892</td>\n",
       "      <td>NaN</td>\n",
       "      <td>5</td>\n",
       "      <td>[Animation, Short]</td>\n",
       "    </tr>\n",
       "    <tr>\n",
       "      <th>2</th>\n",
       "      <td>tt0000003</td>\n",
       "      <td>short</td>\n",
       "      <td>Poor Pierrot</td>\n",
       "      <td>Pauvre Pierrot</td>\n",
       "      <td>0</td>\n",
       "      <td>1892</td>\n",
       "      <td>NaN</td>\n",
       "      <td>5</td>\n",
       "      <td>[Animation, Comedy, Romance]</td>\n",
       "    </tr>\n",
       "    <tr>\n",
       "      <th>3</th>\n",
       "      <td>tt0000004</td>\n",
       "      <td>short</td>\n",
       "      <td>Un bon bock</td>\n",
       "      <td>Un bon bock</td>\n",
       "      <td>0</td>\n",
       "      <td>1892</td>\n",
       "      <td>NaN</td>\n",
       "      <td>12</td>\n",
       "      <td>[Animation, Short]</td>\n",
       "    </tr>\n",
       "    <tr>\n",
       "      <th>4</th>\n",
       "      <td>tt0000005</td>\n",
       "      <td>short</td>\n",
       "      <td>Blacksmith Scene</td>\n",
       "      <td>Blacksmith Scene</td>\n",
       "      <td>0</td>\n",
       "      <td>1893</td>\n",
       "      <td>NaN</td>\n",
       "      <td>1</td>\n",
       "      <td>[Comedy, Short]</td>\n",
       "    </tr>\n",
       "  </tbody>\n",
       "</table>\n",
       "</div>"
      ],
      "text/plain": [
       "      tconst titleType            primaryTitle           originalTitle  \\\n",
       "0  tt0000001     short              Carmencita              Carmencita   \n",
       "1  tt0000002     short  Le clown et ses chiens  Le clown et ses chiens   \n",
       "2  tt0000003     short            Poor Pierrot          Pauvre Pierrot   \n",
       "3  tt0000004     short             Un bon bock             Un bon bock   \n",
       "4  tt0000005     short        Blacksmith Scene        Blacksmith Scene   \n",
       "\n",
       "   isAdult startYear  endYear runtimeMinutes                        genres  \n",
       "0        0      1894      NaN              1          [Documentary, Short]  \n",
       "1        0      1892      NaN              5            [Animation, Short]  \n",
       "2        0      1892      NaN              5  [Animation, Comedy, Romance]  \n",
       "3        0      1892      NaN             12            [Animation, Short]  \n",
       "4        0      1893      NaN              1               [Comedy, Short]  "
      ]
     },
     "execution_count": 155,
     "metadata": {},
     "output_type": "execute_result"
    }
   ],
   "source": [
    "df_t_basics.head()"
   ]
  },
  {
   "cell_type": "code",
   "execution_count": 154,
   "metadata": {},
   "outputs": [
    {
     "data": {
      "text/plain": [
       "tconst               0\n",
       "titleType            0\n",
       "primaryTitle         0\n",
       "originalTitle        0\n",
       "isAdult              0\n",
       "startYear            1\n",
       "endYear           1000\n",
       "runtimeMinutes     512\n",
       "genres               0\n",
       "dtype: int64"
      ]
     },
     "execution_count": 154,
     "metadata": {},
     "output_type": "execute_result"
    }
   ],
   "source": [
    "df_t_basics.isnull().sum()"
   ]
  },
  {
   "cell_type": "code",
   "execution_count": null,
   "metadata": {},
   "outputs": [],
   "source": [
    "# pour afficher les lignes où la coli=onne runtime est nulle\n",
    "df_t_basics[df_t_basics['runtimeMinutes'].isnull()]\n"
   ]
  },
  {
   "cell_type": "code",
   "execution_count": null,
   "metadata": {},
   "outputs": [],
   "source": [
    "# OBSERVATION !!\n",
    "# df_t_basics['startYear'] ==> réflexion à faire comment traiter les lignes de films dont la colonne StartYear est vide."
   ]
  },
  {
   "cell_type": "code",
   "execution_count": null,
   "metadata": {},
   "outputs": [],
   "source": [
    "from datetime import datetime\n",
    "\n",
    "df_t_basics['startYearNew']= pd.to_datetime(df_t_basics['startYear'], format = '%Y')\n",
    "\n",
    "# Le code semble correcte mais bloqué par la seule ligne où df_t_basics['startYear'] est vide (NaN)\n"
   ]
  },
  {
   "cell_type": "code",
   "execution_count": null,
   "metadata": {},
   "outputs": [],
   "source": [
    "# df_t_basics['startYear'] ==> Date  ==> réflexion si changement de date en valeur ou l'exploiter pour le moment en str\n",
    "# df_t_basics['endYear'] ==> Date  ==> Idem (à voir)\n",
    "# df_t_basics['runtimeMinutes'] ==> Int\n",
    "# df_t_basics['genres'] ==> Liste"
   ]
  },
  {
   "cell_type": "code",
   "execution_count": 141,
   "metadata": {},
   "outputs": [],
   "source": [
    "df_t_basics['runtimeMinutes']= df_t_basics['runtimeMinutes'].astype(float)"
   ]
  },
  {
   "cell_type": "code",
   "execution_count": 142,
   "metadata": {},
   "outputs": [
    {
     "name": "stdout",
     "output_type": "stream",
     "text": [
      "<class 'pandas.core.frame.DataFrame'>\n",
      "RangeIndex: 1000 entries, 0 to 999\n",
      "Data columns (total 9 columns):\n",
      " #   Column          Non-Null Count  Dtype  \n",
      "---  ------          --------------  -----  \n",
      " 0   tconst          1000 non-null   object \n",
      " 1   titleType       1000 non-null   object \n",
      " 2   primaryTitle    1000 non-null   object \n",
      " 3   originalTitle   1000 non-null   object \n",
      " 4   isAdult         1000 non-null   int64  \n",
      " 5   startYear       999 non-null    object \n",
      " 6   endYear         0 non-null      float64\n",
      " 7   runtimeMinutes  488 non-null    float64\n",
      " 8   genres          984 non-null    object \n",
      "dtypes: float64(2), int64(1), object(6)\n",
      "memory usage: 70.4+ KB\n"
     ]
    }
   ],
   "source": [
    "df_t_basics.info()"
   ]
  },
  {
   "cell_type": "code",
   "execution_count": null,
   "metadata": {},
   "outputs": [],
   "source": [
    "# A VOIR SI CA PEUT SERVIR AUQUEL CAS LE CORRIGER\n",
    "\n",
    "# def NaNRunTime(x):\n",
    "#     if x != 'NaN':\n",
    "#         x = x.astype(float)\n",
    "#     else:\n",
    "#         x = 'NaN'\n",
    "# df_t_basics['runtimeMinutes']= df_t_basics['runtimeMinutes'].apply(NaNRunTime)\n",
    "\n",
    "\n",
    "\n",
    "# OU? # def NaNRunTime(x):\n",
    "# #     if x != 'NaN':\n",
    "# #         x = int(x)\n",
    "# #     else:\n",
    "# #         x = 'NaN'"
   ]
  }
 ],
 "metadata": {
  "kernelspec": {
   "display_name": "base",
   "language": "python",
   "name": "python3"
  },
  "language_info": {
   "codemirror_mode": {
    "name": "ipython",
    "version": 3
   },
   "file_extension": ".py",
   "mimetype": "text/x-python",
   "name": "python",
   "nbconvert_exporter": "python",
   "pygments_lexer": "ipython3",
   "version": "3.12.7"
  }
 },
 "nbformat": 4,
 "nbformat_minor": 2
}
