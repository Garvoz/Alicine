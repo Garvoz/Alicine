{
 "cells": [
  {
   "cell_type": "code",
   "execution_count": null,
   "metadata": {},
   "outputs": [],
   "source": [
    "import pandas as pd"
   ]
  },
  {
   "cell_type": "code",
   "execution_count": null,
   "metadata": {},
   "outputs": [],
   "source": [
    "link1 = \"./BD/name.basics.tsv.gz\"\n",
    "link2 = \"./BD/title.akas.tsv.gz\"\n",
    "link3 = \"./BD/title.basics.tsv.gz\"\n",
    "link4 = \"./BD/title.crew.tsv.gz\"\n",
    "link5 = \"./BD/title.episode.tsv.gz\"\n",
    "link6 = \"./BD/title.principals.tsv.gz\"\n",
    "link7 = \"./BD/title.ratings.tsv.gz\"\n",
    "link8 = \"./BD/tmdb_full.csv\"\n",
    "df_basic_name = pd.read_csv(link1, sep = \"\\t\", compression = \"gzip\", nrows = 1000)\n",
    "df_t_akas = pd.read_csv(link2, sep = \"\\t\", compression = \"gzip\", nrows = 1000)\n",
    "df_t_basics = pd.read_csv(link3, sep = \"\\t\", compression = \"gzip\", nrows = 1000)\n",
    "df_t_crew = pd.read_csv(link4, sep = \"\\t\", compression = \"gzip\", nrows = 1000)\n",
    "df_t_episode = pd.read_csv(link5, sep = \"\\t\", compression = \"gzip\", nrows = 1000)\n",
    "df_t_principals = pd.read_csv(link6, sep = \"\\t\", compression = \"gzip\", nrows = 1000)\n",
    "df_t_ratings = pd.read_csv(link7, sep = \"\\t\", compression = \"gzip\", nrows = 1000)\n",
    "df_tmdb = pd.read_csv(link8, nrows = 1000)"
   ]
  },
  {
   "cell_type": "code",
   "execution_count": null,
   "metadata": {},
   "outputs": [],
   "source": [
    "df_basic_name = pd.read_csv(link1, sep = \"\\t\", compression = \"gzip\")\n",
    "\n",
    "df_t_basics = pd.read_csv(link3, sep = \"\\t\", compression = \"gzip\")\n",
    "\n",
    "df_t_principals = pd.read_csv(link6, sep = \"\\t\", compression = \"gzip\")\n",
    "\n",
    "df_t_episode = pd.read_csv(link5, sep = \"\\t\", compression = \"gzip\")"
   ]
  },
  {
   "cell_type": "code",
   "execution_count": null,
   "metadata": {},
   "outputs": [],
   "source": [
    "#Filtrage table df_t_principals\n",
    "dftp = df_t_principals[['nconst', 'tconst', 'category', 'characters']]\n",
    "dftp = dftp[(dftp['category'] == 'actor') | (dftp['category'] == 'actress')]\n",
    "dftp = dftp.sort_values('nconst')\n",
    "\n",
    "#Filtrage table df_t_basics et merge\n",
    "dftb = df_t_basics[['tconst', 'primaryTitle', 'startYear']]\n",
    "dftbp = pd.merge(dftp, dftb, how = 'left', on = 'tconst')\n",
    "dftbp.sort_values('nconst')\n",
    "\n",
    "#Filtrage table df_basic_name et merge final\n",
    "dfbn = df_basic_name[['nconst', 'primaryName']]\n",
    "dftbpn = pd.merge(dfbn, dftbp, how = 'right', on = 'nconst' )\n",
    "dftbpn.sort_values('nconst')\n",
    "df_temp = dftbpn[['nconst', 'primaryName', 'tconst', 'primaryTitle', 'startYear']]\n",
    "df_temp = df_temp.drop_duplicates()"
   ]
  }
 ],
 "metadata": {
  "language_info": {
   "name": "python"
  }
 },
 "nbformat": 4,
 "nbformat_minor": 2
}
