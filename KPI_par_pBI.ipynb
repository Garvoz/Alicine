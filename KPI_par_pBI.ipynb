{
 "cells": [
  {
   "cell_type": "markdown",
   "metadata": {},
   "source": [
    "# KPI1 Identification des acteurs les plus présents et les périodes associées\n",
    "# KPI2 : Evolution de la durée moyenne des films au fil des années\n",
    "# KPI3 : Comparaison entre les acteurs présents au cinéma et dans les séries\n",
    "# KPI4 : Age moyen des acteurs.\n",
    "# KPI5 : Les films les mieux notés et les caractéristiques qu’ils partagent."
   ]
  },
  {
   "cell_type": "markdown",
   "metadata": {},
   "source": [
    "## Pour répondre à ces KPI il me faut un filtre sur les tconst de films et et séries qu'il est plus simple de faire sur vscode:\n",
    "### Après exploration: films => titleType = movie, episode série => titleType = tvEpisode\n"
   ]
  },
  {
   "cell_type": "code",
   "execution_count": 1,
   "metadata": {},
   "outputs": [],
   "source": [
    "import pandas as pd"
   ]
  },
  {
   "cell_type": "code",
   "execution_count": 26,
   "metadata": {},
   "outputs": [],
   "source": [
    "df_t_basics = pd.read_csv(\"./BD/df_t_basics_clean.csv\")"
   ]
  },
  {
   "cell_type": "code",
   "execution_count": 23,
   "metadata": {},
   "outputs": [],
   "source": [
    "df_basic_name_pbi = pd.read_csv(\"./BD/df_basic_name_clean.csv\")"
   ]
  },
  {
   "cell_type": "code",
   "execution_count": 46,
   "metadata": {},
   "outputs": [],
   "source": [
    "df_t_ratings = pd.read_csv(\"./BD/df_t_ratings_clean.csv\")"
   ]
  },
  {
   "cell_type": "code",
   "execution_count": 29,
   "metadata": {},
   "outputs": [],
   "source": [
    "df_t_principals = pd.read_csv(\"./BD/df_t_principals_clean.csv\")"
   ]
  },
  {
   "cell_type": "code",
   "execution_count": 37,
   "metadata": {},
   "outputs": [],
   "source": [
    "info_acteurs = pd.read_csv(\"./BD/info_acteurs.csv\")"
   ]
  },
  {
   "cell_type": "code",
   "execution_count": null,
   "metadata": {},
   "outputs": [],
   "source": [
    "info_liens = pd.read_csv(\"./BD/info_liens.csv\")"
   ]
  },
  {
   "cell_type": "code",
   "execution_count": 4,
   "metadata": {},
   "outputs": [],
   "source": [
    "df_tmdb_clean = pd.read_csv(\"./BD/df_tmdb_clean.csv\")"
   ]
  },
  {
   "cell_type": "markdown",
   "metadata": {},
   "source": [
    "Création DF info_films pour PowerBI"
   ]
  },
  {
   "cell_type": "code",
   "execution_count": 34,
   "metadata": {},
   "outputs": [],
   "source": [
    "#On filtre les ID pour ne garder que les films et episodes de séries non pornographiques\n",
    "df_t_basics_pbi = df_t_basics[((df_t_basics['titleType'] == 'movie') | (df_t_basics['titleType'] == 'tvEpisode')) & (df_t_basics['isAdult'] == 0)]\n",
    "\n",
    "#On ajoute les notes de la table ratings\n",
    "info_films = pd.merge(df_t_basics_pbi, df_t_ratings, how = 'left', on = 'tconst')\n",
    "\n",
    "#On sélectionne les colonnes pertinentes\n",
    "info_films= info_films[['tconst', 'titleType', 'primaryTitle', 'startYear', 'runtimeMinutes', 'genres', 'averageRating', 'numVotes']]\n",
    "\n",
    "#Export pour bi\n",
    "info_films.to_csv(\"info_films.csv\", index = False)"
   ]
  },
  {
   "cell_type": "markdown",
   "metadata": {},
   "source": [
    "Création DF info_acteurs pour PowerBI"
   ]
  },
  {
   "cell_type": "code",
   "execution_count": null,
   "metadata": {},
   "outputs": [],
   "source": [
    "#On enlèves les colonnes que nous n'utiliseront pas\n",
    "info_acteurs = df_basic_name_pbi.drop(['knownForTitles', 'deathYear'], axis = 1)\n",
    "\n",
    "#On ne garde que les acteurs et actrices\n",
    "info_acteurs = info_acteurs[(info_acteurs[('primaryProfession')].str.contains('actor')) | (info_acteurs[('primaryProfession')].str.contains('actress'))]\n",
    "\n",
    "#On signale si c'est un acteur ou une actrice avant de droper les autres professions\n",
    "info_acteurs['profession'] = info_acteurs['primaryProfession'].apply(lambda x : 'actor' if 'actor' in x else 'actress')\n",
    "info_acteurs = info_acteurs.drop('primaryProfession', axis =1)\n",
    "\n",
    "#Export\n",
    "info_acteurs.to_csv(\"info_acteurs.csv\", index = False)"
   ]
  },
  {
   "cell_type": "markdown",
   "metadata": {},
   "source": [
    "Création DF info_liens pour PowerBI"
   ]
  },
  {
   "cell_type": "code",
   "execution_count": 44,
   "metadata": {},
   "outputs": [],
   "source": [
    "info_liens =info_liens.drop('category', axis = 1)"
   ]
  },
  {
   "cell_type": "code",
   "execution_count": 78,
   "metadata": {},
   "outputs": [],
   "source": [
    "#On prend les id de films qui nous intéressent : ils sont déjà triés donc on ne garde que les colonnes id et startYear:\n",
    "tconst = df_t_basics_pbi[['tconst', 'startYear']]\n",
    "\n",
    "#On ajoute les id des gens qui ont bossés sur le film:\n",
    "info_liens = pd.merge(tconst, df_t_principals, how = 'left', on = 'tconst')\n",
    "\n",
    "#On ne garde que ceux qui sont acteur/actrices:\n",
    "info_liens = info_liens[(info_liens['category'] == 'actor') | (info_liens['category'] == 'actress')]\n",
    "\n",
    "#On reprend les acteurs et leur date de naissance:\n",
    "act_id = info_acteurs[['nconst', 'birthYear']]\n",
    "\n",
    "#On ajoute les dates de naissance aux id correspondants pour vérifier si toutes les lignes sont rensiegnées:\n",
    "info_liens= pd.merge(info_liens, act_id, how = 'left', on ='nconst')\n",
    "\n",
    "#La colonne 'category' ne nous intéresse plus:\n",
    "info_liens =info_liens.drop('category', axis = 1)\n",
    "\n",
    "#On créé l'age de l'acteur au moment du film puis on supprime les autres colonnes années:\n",
    "info_liens['age_act'] = info_liens['startYear'] -info_liens['birthYear']\n",
    "info_liens = info_liens.drop(['startYear', 'birthYear'], axis = 1)\n",
    "\n",
    "info_liens = info_liens.reset_index().drop('index', axis = 1)\n",
    "\n",
    "#Export\n",
    "info_liens.to_csv(\"info_liens.csv\", index = False)\n"
   ]
  },
  {
   "cell_type": "code",
   "execution_count": 48,
   "metadata": {},
   "outputs": [],
   "source": [
    "info_liens.to_csv(\"info_liens.csv\", index = False)"
   ]
  },
  {
   "cell_type": "markdown",
   "metadata": {},
   "source": [
    "Création DF info_liens_tmdb pour PowerBI"
   ]
  },
  {
   "cell_type": "code",
   "execution_count": 51,
   "metadata": {},
   "outputs": [],
   "source": [
    "#On veut le même DF que info_liens mais filtré avec seulement les films de la table tmdb_clean:\n",
    "\n",
    "df_tmdb_clean_pbi = df_tmdb_clean[['ID']]\n",
    "\n",
    "info_liens_tmdb = pd.merge(info_liens, df_tmdb_clean_pbi, how = 'left', left_on='tconst', right_on = 'ID')\n",
    "\n",
    "info_liens_tmdb = info_liens_tmdb.dropna().drop('ID', axis = 1)\n",
    "\n",
    "info_liens_tmdb = info_liens_tmdb.reset_index()\n",
    "\n",
    "info_liens_tmdb.to_csv(\"info_liens_tmdb.csv\", index = False)\n"
   ]
  },
  {
   "cell_type": "code",
   "execution_count": 52,
   "metadata": {},
   "outputs": [
    {
     "data": {
      "text/html": [
       "<div>\n",
       "<style scoped>\n",
       "    .dataframe tbody tr th:only-of-type {\n",
       "        vertical-align: middle;\n",
       "    }\n",
       "\n",
       "    .dataframe tbody tr th {\n",
       "        vertical-align: top;\n",
       "    }\n",
       "\n",
       "    .dataframe thead th {\n",
       "        text-align: right;\n",
       "    }\n",
       "</style>\n",
       "<table border=\"1\" class=\"dataframe\">\n",
       "  <thead>\n",
       "    <tr style=\"text-align: right;\">\n",
       "      <th></th>\n",
       "      <th>index</th>\n",
       "      <th>tconst</th>\n",
       "      <th>nconst</th>\n",
       "      <th>age_act</th>\n",
       "    </tr>\n",
       "  </thead>\n",
       "  <tbody>\n",
       "    <tr>\n",
       "      <th>0</th>\n",
       "      <td>205865</td>\n",
       "      <td>tt0035423</td>\n",
       "      <td>nm0000212</td>\n",
       "      <td>40.0</td>\n",
       "    </tr>\n",
       "    <tr>\n",
       "      <th>1</th>\n",
       "      <td>205866</td>\n",
       "      <td>tt0035423</td>\n",
       "      <td>nm0413168</td>\n",
       "      <td>33.0</td>\n",
       "    </tr>\n",
       "    <tr>\n",
       "      <th>2</th>\n",
       "      <td>205867</td>\n",
       "      <td>tt0035423</td>\n",
       "      <td>nm0000630</td>\n",
       "      <td>34.0</td>\n",
       "    </tr>\n",
       "    <tr>\n",
       "      <th>3</th>\n",
       "      <td>205868</td>\n",
       "      <td>tt0035423</td>\n",
       "      <td>nm0005227</td>\n",
       "      <td>27.0</td>\n",
       "    </tr>\n",
       "    <tr>\n",
       "      <th>4</th>\n",
       "      <td>205869</td>\n",
       "      <td>tt0035423</td>\n",
       "      <td>nm0005169</td>\n",
       "      <td>22.0</td>\n",
       "    </tr>\n",
       "    <tr>\n",
       "      <th>...</th>\n",
       "      <td>...</td>\n",
       "      <td>...</td>\n",
       "      <td>...</td>\n",
       "      <td>...</td>\n",
       "    </tr>\n",
       "    <tr>\n",
       "      <th>278529</th>\n",
       "      <td>29201865</td>\n",
       "      <td>tt9908390</td>\n",
       "      <td>nm1446274</td>\n",
       "      <td>32.0</td>\n",
       "    </tr>\n",
       "    <tr>\n",
       "      <th>278530</th>\n",
       "      <td>29209609</td>\n",
       "      <td>tt9913660</td>\n",
       "      <td>nm0217984</td>\n",
       "      <td>45.0</td>\n",
       "    </tr>\n",
       "    <tr>\n",
       "      <th>278531</th>\n",
       "      <td>29211616</td>\n",
       "      <td>tt9916190</td>\n",
       "      <td>nm0302466</td>\n",
       "      <td>52.0</td>\n",
       "    </tr>\n",
       "    <tr>\n",
       "      <th>278532</th>\n",
       "      <td>29211618</td>\n",
       "      <td>tt9916190</td>\n",
       "      <td>nm2952127</td>\n",
       "      <td>30.0</td>\n",
       "    </tr>\n",
       "    <tr>\n",
       "      <th>278533</th>\n",
       "      <td>29211619</td>\n",
       "      <td>tt9916190</td>\n",
       "      <td>nm2018573</td>\n",
       "      <td>56.0</td>\n",
       "    </tr>\n",
       "  </tbody>\n",
       "</table>\n",
       "<p>278534 rows × 4 columns</p>\n",
       "</div>"
      ],
      "text/plain": [
       "           index     tconst     nconst  age_act\n",
       "0         205865  tt0035423  nm0000212     40.0\n",
       "1         205866  tt0035423  nm0413168     33.0\n",
       "2         205867  tt0035423  nm0000630     34.0\n",
       "3         205868  tt0035423  nm0005227     27.0\n",
       "4         205869  tt0035423  nm0005169     22.0\n",
       "...          ...        ...        ...      ...\n",
       "278529  29201865  tt9908390  nm1446274     32.0\n",
       "278530  29209609  tt9913660  nm0217984     45.0\n",
       "278531  29211616  tt9916190  nm0302466     52.0\n",
       "278532  29211618  tt9916190  nm2952127     30.0\n",
       "278533  29211619  tt9916190  nm2018573     56.0\n",
       "\n",
       "[278534 rows x 4 columns]"
      ]
     },
     "execution_count": 52,
     "metadata": {},
     "output_type": "execute_result"
    }
   ],
   "source": [
    "info_liens_tmdb"
   ]
  },
  {
   "cell_type": "code",
   "execution_count": null,
   "metadata": {},
   "outputs": [],
   "source": []
  }
 ],
 "metadata": {
  "kernelspec": {
   "display_name": "base",
   "language": "python",
   "name": "python3"
  },
  "language_info": {
   "codemirror_mode": {
    "name": "ipython",
    "version": 3
   },
   "file_extension": ".py",
   "mimetype": "text/x-python",
   "name": "python",
   "nbconvert_exporter": "python",
   "pygments_lexer": "ipython3",
   "version": "3.12.4"
  }
 },
 "nbformat": 4,
 "nbformat_minor": 2
}
