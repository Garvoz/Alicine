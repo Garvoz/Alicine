{
 "cells": [
  {
   "cell_type": "markdown",
   "metadata": {},
   "source": [
    "# KPI1 Identification des acteurs les plus présents et les périodes associées\n",
    "# KPI2 : Evolution de la durée moyenne des films au fil des années\n",
    "# KPI3 : Comparaison entre les acteurs présents au cinéma et dans les séries\n",
    "# KPI4 : Age moyen des acteurs.\n",
    "# KPI5 : Les films les mieux notés et les caractéristiques qu’ils partagent."
   ]
  },
  {
   "cell_type": "markdown",
   "metadata": {},
   "source": [
    "## Pour répondre à ces KPI il me faut un filtre sur les tconst de films et et séries qu'il est plus simple de faire sur vscode:\n",
    "### Après exploration: films => titleType = movie, episode série => titleType = tvEpisode\n"
   ]
  },
  {
   "cell_type": "code",
   "execution_count": 2,
   "metadata": {},
   "outputs": [],
   "source": [
    "import pandas as pd"
   ]
  },
  {
   "cell_type": "code",
   "execution_count": 3,
   "metadata": {},
   "outputs": [],
   "source": [
    "df_t_basics = pd.read_csv(\"./BD/df_t_basics_clean.csv\")"
   ]
  },
  {
   "cell_type": "code",
   "execution_count": 55,
   "metadata": {},
   "outputs": [],
   "source": [
    "df_basic_name_pbi = pd.read_csv(\"./BD/df_basic_name_clean.csv\")"
   ]
  },
  {
   "cell_type": "code",
   "execution_count": 46,
   "metadata": {},
   "outputs": [],
   "source": [
    "df_t_ratings = pd.read_csv(\"./BD/df_t_ratings_clean.csv\")"
   ]
  },
  {
   "cell_type": "code",
   "execution_count": 64,
   "metadata": {},
   "outputs": [],
   "source": [
    "df_t_principals = pd.read_csv(\"./BD/df_t_principals_clean.csv\")"
   ]
  },
  {
   "cell_type": "code",
   "execution_count": 34,
   "metadata": {},
   "outputs": [],
   "source": [
    "#On filtre les ID pour ne garder que les films et episodes de séries non pornographiques\n",
    "df_t_basics_pbi = df_t_basics[((df_t_basics['titleType'] == 'movie') | (df_t_basics['titleType'] == 'tvEpisode')) & (df_t_basics['isAdult'] == 0)]\n",
    "\n",
    "#On ajoute les notes de la table ratings\n",
    "info_films = pd.merge(df_t_basics_pbi, df_t_ratings, how = 'left', on = 'tconst')\n",
    "\n",
    "#On sélectionne les colonnes pertinentes\n",
    "info_films= info_films[['tconst', 'titleType', 'primaryTitle', 'startYear', 'runtimeMinutes', 'genres', 'averageRating', 'numVotes']]\n",
    "\n",
    "#Export pour bi\n",
    "info_films.to_csv(\"info_films.csv\", index = False)"
   ]
  },
  {
   "cell_type": "code",
   "execution_count": null,
   "metadata": {},
   "outputs": [],
   "source": [
    "#On enlèves les colonnes que nous n'utiliseront pas\n",
    "info_acteurs = df_basic_name_pbi.drop(['knownForTitles', 'deathYear'], axis = 1)\n",
    "\n",
    "#On ne garde que les acteurs et actrices\n",
    "info_acteurs = info_acteurs[(info_acteurs[('primaryProfession')].str.contains('actor')) | (info_acteurs[('primaryProfession')].str.contains('actress'))]\n",
    "\n",
    "#On signale si c'est un acteur ou une actrice avant de droper les autres professions\n",
    "info_acteurs['profession'] = info_acteurs['primaryProfession'].apply(lambda x : 'actor' if 'actor' in x else 'actress')\n",
    "info_acteurs = info_acteurs.drop('primaryProfession', axis =1)\n",
    "\n",
    "#Export\n",
    "info_acteurs.to_csv(\"info_acteurs.csv\", index = False)"
   ]
  },
  {
   "cell_type": "code",
   "execution_count": 78,
   "metadata": {},
   "outputs": [],
   "source": [
    "#On prend les id de films qui nous intéressent : ils sont déjà triés donc on ne garde que les colonnes id et startYear:\n",
    "tconst = df_t_basics_pbi[['tconst', 'startYear']]\n",
    "\n",
    "#On ajoute les id des gens qui ont bossés sur le film:\n",
    "info_liens = pd.merge(tconst, df_t_principals, how = 'left', on = 'tconst')\n",
    "\n",
    "#On reprend les acteurs et leur date de naissance:\n",
    "act_id = info_acteurs[['nconst', 'birthYear']]\n",
    "\n",
    "#On ajoute les dates de naissance aux id correspondants:\n",
    "info_liens= pd.merge(info_liens, act_id, how = 'left', on ='nconst')\n",
    "\n",
    "#Les nconst qui n'ont pas de date de naissance ne sont pas des acteurs : on peut drop les lignes!\n",
    "info_liens =info_liens.dropna(subset = 'birthYear')\n",
    "info_liens =info_liens.drop('category', axis = 1)\n",
    "\n",
    "#On créé l'age de l'acteur au moment du film puis on supprime les autres colonnes années:\n",
    "info_liens['age_act'] = info_liens['startYear'] -info_liens['birthYear']\n",
    "info_liens = info_liens.drop(['startYear', 'birthYear'], axis = 1)\n",
    "\n",
    "info_liens = info_liens.reset_index().drop('index', axis = 1)\n",
    "\n",
    "#Export\n",
    "info_liens.to_csv(\"info_liens.csv\", index = False)\n"
   ]
  }
 ],
 "metadata": {
  "kernelspec": {
   "display_name": "base",
   "language": "python",
   "name": "python3"
  },
  "language_info": {
   "codemirror_mode": {
    "name": "ipython",
    "version": 3
   },
   "file_extension": ".py",
   "mimetype": "text/x-python",
   "name": "python",
   "nbconvert_exporter": "python",
   "pygments_lexer": "ipython3",
   "version": "3.12.4"
  }
 },
 "nbformat": 4,
 "nbformat_minor": 2
}
