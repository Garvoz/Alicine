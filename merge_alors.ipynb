{
 "cells": [
  {
   "cell_type": "code",
   "execution_count": 1,
   "metadata": {},
   "outputs": [],
   "source": [
    "import pandas as pd\n",
    "import matplotlib.pyplot as plt\n",
    "import seaborn as sns"
   ]
  },
  {
   "cell_type": "code",
   "execution_count": 2,
   "metadata": {},
   "outputs": [],
   "source": [
    "link1 = \"./BD/df_basic_name_clean.csv\"\n",
    "link2 = \"./BD/df_t_akas_clean.csv\"\n",
    "link3 = \"./BD/df_t_basics_clean.csv\"\n",
    "link4 = \"./BD/df_t_crew_clean.csv\"\n",
    "link5 = \"./BD/df_t_episode_clean.csv\"\n",
    "link6 = \"./BD/df_t_principals_clean.csv\"\n",
    "link7 = \"./BD/df_t_ratings_clean.csv\"\n",
    "link8 = \"./BD/tmdb_full.csv\"\n",
    "link9 = \"./BD/df_tID.csv\"\n",
    "link10 = \"./BD/df_nID.csv\""
   ]
  },
  {
   "cell_type": "code",
   "execution_count": 20,
   "metadata": {},
   "outputs": [],
   "source": [
    "df_basic_name = pd.read_csv(link1)"
   ]
  },
  {
   "cell_type": "code",
   "execution_count": 12,
   "metadata": {},
   "outputs": [],
   "source": [
    "df_t_akas = pd.read_csv(link2)"
   ]
  },
  {
   "cell_type": "code",
   "execution_count": 31,
   "metadata": {},
   "outputs": [],
   "source": [
    "df_t_basics = pd.read_csv(link3)"
   ]
  },
  {
   "cell_type": "code",
   "execution_count": 75,
   "metadata": {},
   "outputs": [],
   "source": [
    "df_t_crew = pd.read_csv(link4)"
   ]
  },
  {
   "cell_type": "code",
   "execution_count": null,
   "metadata": {},
   "outputs": [],
   "source": [
    "df_t_episode = pd.read_csv(link5nope)"
   ]
  },
  {
   "cell_type": "code",
   "execution_count": 5,
   "metadata": {},
   "outputs": [],
   "source": [
    "df_t_principals = pd.read_csv(link6)"
   ]
  },
  {
   "cell_type": "code",
   "execution_count": 16,
   "metadata": {},
   "outputs": [],
   "source": [
    "df_t_ratings = pd.read_csv(link7)"
   ]
  },
  {
   "cell_type": "code",
   "execution_count": 3,
   "metadata": {},
   "outputs": [],
   "source": [
    "df_tmdb = pd.read_csv(link8, low_memory = False)"
   ]
  },
  {
   "cell_type": "code",
   "execution_count": 4,
   "metadata": {},
   "outputs": [],
   "source": [
    "df_tID = pd.read_csv(link9)"
   ]
  },
  {
   "cell_type": "code",
   "execution_count": 5,
   "metadata": {},
   "outputs": [],
   "source": [
    "df_nID = pd.read_csv(link10)"
   ]
  },
  {
   "cell_type": "markdown",
   "metadata": {},
   "source": [
    "On veut 2 df: un df avec index tconst et un avec index nconst\n",
    "1.  Commençons par df_tID"
   ]
  },
  {
   "cell_type": "code",
   "execution_count": null,
   "metadata": {},
   "outputs": [],
   "source": [
    "# Prépartion table title basics en premier car elle permet de selectionner les 'movies' et les années souhaitées\n",
    "df_tb_tconst = df_t_basics[(df_t_basics['titleType'] == 'movie') & (df_t_basics['startYear'] >= 1950) & (df_t_basics['isAdult'] == 0)]\n",
    "df_tb_tconst = df_tb_tconst[['tconst', 'primaryTitle', 'startYear', 'runtimeMinutes', 'genres']]\n",
    "\n",
    "#Préparation table title principals\n",
    "df_ptconst = df_t_principals.groupby('tconst').agg(list).reset_index()\n",
    "df_ptconst = df_ptconst.drop('category', axis = 1)\n",
    "\n",
    "#Premier merge avec title basic en pivot\n",
    "df_tID = pd.merge(df_tb_tconst, df_ptconst, how = 'left', on='tconst')\n",
    "\n",
    "#2e merge avec akas deja nettoyé\n",
    "df_tID = pd.merge(df_tID, df_t_akas, how = 'left', left_on='tconst', right_on='titleId')\n",
    "\n",
    "#3e merge avec ratings déjà nettoyé\n",
    "df_tID = pd.merge(df_tID, df_t_ratings, how = 'left', on='tconst')\n",
    "\n",
    "#4e merge avec les directors de title crew\n",
    "df_t_crew_fusion = df_t_crew[['tconst', 'directors']]\n",
    "df_tID = pd.merge(df_tID, df_t_crew_fusion how = 'left', on='tconst')\n",
    "\n",
    "\n",
    "#Renommage des colonnes\n",
    "df_tID = df_tID.rename(columns={'tconst' : 't_ID', 'primaryTitle' : 'Titre_Principal', 'startYear' : 'Année', 'genres' : 'Genres', 'runtimeMinutes' : 'Durée', 'nnconst' : 'n_ID_liste', 'title' : 'Titres_possibles', 'averageRating' : 'Note_moyenne', 'numVotes' : 'Nb_votants', 'directors' : 'Réalisateurs'})\n",
    "\n",
    "#Drop colonnes doublons\n",
    "df_tID = df_tID.drop(['tconst', 'titleId'], axis = 1)\n",
    "\n",
    "#Réorganisation des colonnes\n",
    "df_tID = df_tID[['t_ID', 'Titre_Principal', 'Année', 'Réalisateurs', 'n_ID_liste', 'Durée', 'Genres', 'Note_moyenne', 'Nb_votants', 'Titres_possibles']]\n",
    "\n",
    "#Trie par année\n",
    "df_tID = df_tID.sort_values('Année')\n",
    "\n",
    "#reset index\n",
    "df_tID= df_tID.reset_index().drop('index', axis = 1)\n",
    "\n",
    "#Export\n",
    "df_tID.to_csv('df_tID.csv', index = False)"
   ]
  },
  {
   "cell_type": "code",
   "execution_count": 65,
   "metadata": {},
   "outputs": [
    {
     "data": {
      "text/html": [
       "<div>\n",
       "<style scoped>\n",
       "    .dataframe tbody tr th:only-of-type {\n",
       "        vertical-align: middle;\n",
       "    }\n",
       "\n",
       "    .dataframe tbody tr th {\n",
       "        vertical-align: top;\n",
       "    }\n",
       "\n",
       "    .dataframe thead th {\n",
       "        text-align: right;\n",
       "    }\n",
       "</style>\n",
       "<table border=\"1\" class=\"dataframe\">\n",
       "  <thead>\n",
       "    <tr style=\"text-align: right;\">\n",
       "      <th></th>\n",
       "      <th>t_ID</th>\n",
       "      <th>Titre_Principal</th>\n",
       "      <th>Année</th>\n",
       "      <th>Réalisateurs</th>\n",
       "      <th>n_ID_liste</th>\n",
       "      <th>Durée</th>\n",
       "      <th>Genres</th>\n",
       "      <th>Note_moyenne</th>\n",
       "      <th>Nb_votants</th>\n",
       "      <th>Titres_possibles</th>\n",
       "    </tr>\n",
       "  </thead>\n",
       "  <tbody>\n",
       "    <tr>\n",
       "      <th>0</th>\n",
       "      <td>tt0011801</td>\n",
       "      <td>Tötet nicht mehr</td>\n",
       "      <td>2019.0</td>\n",
       "      <td>['nm0681726']</td>\n",
       "      <td>['nm0681726', 'nm0692612', 'nm0726256', 'nm077...</td>\n",
       "      <td>NaN</td>\n",
       "      <td>['Action', 'Crime']</td>\n",
       "      <td>NaN</td>\n",
       "      <td>NaN</td>\n",
       "      <td>['Tötet nicht mehr', 'Misericordia - Tötet nic...</td>\n",
       "    </tr>\n",
       "    <tr>\n",
       "      <th>1</th>\n",
       "      <td>tt0015414</td>\n",
       "      <td>La tierra de los toros</td>\n",
       "      <td>2000.0</td>\n",
       "      <td>['nm0615736']</td>\n",
       "      <td>['nm0147437', 'nm0615736', 'nm0615736', 'nm061...</td>\n",
       "      <td>60.0</td>\n",
       "      <td>['\\\\N']</td>\n",
       "      <td>5.4</td>\n",
       "      <td>17.0</td>\n",
       "      <td>['La tierra de los toros', 'La terre des taure...</td>\n",
       "    </tr>\n",
       "    <tr>\n",
       "      <th>2</th>\n",
       "      <td>tt0015724</td>\n",
       "      <td>Dama de noche</td>\n",
       "      <td>1993.0</td>\n",
       "      <td>['nm0529960']</td>\n",
       "      <td>['nm0844752', 'nm0869732', 'nm0194720', 'nm065...</td>\n",
       "      <td>102.0</td>\n",
       "      <td>['Drama', 'Mystery', 'Romance']</td>\n",
       "      <td>6.3</td>\n",
       "      <td>31.0</td>\n",
       "      <td>['Dama de noche', 'Dama de noche', 'Éjszakai g...</td>\n",
       "    </tr>\n",
       "    <tr>\n",
       "      <th>3</th>\n",
       "      <td>tt0021617</td>\n",
       "      <td>Arizona Territory</td>\n",
       "      <td>1950.0</td>\n",
       "      <td>['nm0289297']</td>\n",
       "      <td>['nm0934290', 'nm0167395', 'nm0766912', 'nm060...</td>\n",
       "      <td>56.0</td>\n",
       "      <td>['Western']</td>\n",
       "      <td>6.0</td>\n",
       "      <td>61.0</td>\n",
       "      <td>['Arizona Territory', 'Arizona Territory', 'Cu...</td>\n",
       "    </tr>\n",
       "    <tr>\n",
       "      <th>4</th>\n",
       "      <td>tt0022064</td>\n",
       "      <td>Lebbra bianca</td>\n",
       "      <td>1951.0</td>\n",
       "      <td>['nm0871077']</td>\n",
       "      <td>['nm0709790', 'nm0561755', 'nm0623443', 'nm048...</td>\n",
       "      <td>80.0</td>\n",
       "      <td>['Drama']</td>\n",
       "      <td>5.2</td>\n",
       "      <td>62.0</td>\n",
       "      <td>['Lebbra bianca', 'A Lebre Branca', 'Brief Rap...</td>\n",
       "    </tr>\n",
       "    <tr>\n",
       "      <th>...</th>\n",
       "      <td>...</td>\n",
       "      <td>...</td>\n",
       "      <td>...</td>\n",
       "      <td>...</td>\n",
       "      <td>...</td>\n",
       "      <td>...</td>\n",
       "      <td>...</td>\n",
       "      <td>...</td>\n",
       "      <td>...</td>\n",
       "      <td>...</td>\n",
       "    </tr>\n",
       "    <tr>\n",
       "      <th>517165</th>\n",
       "      <td>tt9916622</td>\n",
       "      <td>Rodolpho Teóphilo - O Legado de um Pioneiro</td>\n",
       "      <td>2015.0</td>\n",
       "      <td>['nm9272490', 'nm9272491']</td>\n",
       "      <td>['nm9272513', 'nm10538557', 'nm10538558', 'nm1...</td>\n",
       "      <td>57.0</td>\n",
       "      <td>['Documentary']</td>\n",
       "      <td>NaN</td>\n",
       "      <td>NaN</td>\n",
       "      <td>['Rodolpho Teóphilo - O Legado de um Pioneiro'...</td>\n",
       "    </tr>\n",
       "    <tr>\n",
       "      <th>517166</th>\n",
       "      <td>tt9916680</td>\n",
       "      <td>De la ilusión al desconcierto: cine colombiano...</td>\n",
       "      <td>2007.0</td>\n",
       "      <td>['nm0652213']</td>\n",
       "      <td>['nm0033355', 'nm0127882', 'nm0133349', 'nm105...</td>\n",
       "      <td>100.0</td>\n",
       "      <td>['Documentary']</td>\n",
       "      <td>NaN</td>\n",
       "      <td>NaN</td>\n",
       "      <td>['De la ilusión al desconcierto: cine colombia...</td>\n",
       "    </tr>\n",
       "    <tr>\n",
       "      <th>517167</th>\n",
       "      <td>tt9916706</td>\n",
       "      <td>Dankyavar Danka</td>\n",
       "      <td>2013.0</td>\n",
       "      <td>['nm7764440']</td>\n",
       "      <td>['nm1778107', 'nm2585097', 'nm5697682', 'nm327...</td>\n",
       "      <td>NaN</td>\n",
       "      <td>['Comedy']</td>\n",
       "      <td>7.7</td>\n",
       "      <td>9.0</td>\n",
       "      <td>['Dankyavar Danka', 'Dankyavar Danka']</td>\n",
       "    </tr>\n",
       "    <tr>\n",
       "      <th>517168</th>\n",
       "      <td>tt9916730</td>\n",
       "      <td>6 Gunn</td>\n",
       "      <td>2017.0</td>\n",
       "      <td>['nm10538612']</td>\n",
       "      <td>['nm6096005', 'nm0059461', 'nm13233318', 'nm48...</td>\n",
       "      <td>116.0</td>\n",
       "      <td>['Drama']</td>\n",
       "      <td>7.0</td>\n",
       "      <td>12.0</td>\n",
       "      <td>['6 Gunn', '६ गुण']</td>\n",
       "    </tr>\n",
       "    <tr>\n",
       "      <th>517169</th>\n",
       "      <td>tt9916754</td>\n",
       "      <td>Chico Albuquerque - Revelações</td>\n",
       "      <td>2013.0</td>\n",
       "      <td>['nm9272490', 'nm8349149']</td>\n",
       "      <td>['nm10538632', 'nm3699941', 'nm9813366', 'nm88...</td>\n",
       "      <td>49.0</td>\n",
       "      <td>['Documentary']</td>\n",
       "      <td>NaN</td>\n",
       "      <td>NaN</td>\n",
       "      <td>['Chico Albuquerque - Revelações', 'Chico Albu...</td>\n",
       "    </tr>\n",
       "  </tbody>\n",
       "</table>\n",
       "<p>517170 rows × 10 columns</p>\n",
       "</div>"
      ],
      "text/plain": [
       "             t_ID                                    Titre_Principal   Année  \\\n",
       "0       tt0011801                                   Tötet nicht mehr  2019.0   \n",
       "1       tt0015414                             La tierra de los toros  2000.0   \n",
       "2       tt0015724                                      Dama de noche  1993.0   \n",
       "3       tt0021617                                  Arizona Territory  1950.0   \n",
       "4       tt0022064                                      Lebbra bianca  1951.0   \n",
       "...           ...                                                ...     ...   \n",
       "517165  tt9916622        Rodolpho Teóphilo - O Legado de um Pioneiro  2015.0   \n",
       "517166  tt9916680  De la ilusión al desconcierto: cine colombiano...  2007.0   \n",
       "517167  tt9916706                                    Dankyavar Danka  2013.0   \n",
       "517168  tt9916730                                             6 Gunn  2017.0   \n",
       "517169  tt9916754                     Chico Albuquerque - Revelações  2013.0   \n",
       "\n",
       "                      Réalisateurs  \\\n",
       "0                    ['nm0681726']   \n",
       "1                    ['nm0615736']   \n",
       "2                    ['nm0529960']   \n",
       "3                    ['nm0289297']   \n",
       "4                    ['nm0871077']   \n",
       "...                            ...   \n",
       "517165  ['nm9272490', 'nm9272491']   \n",
       "517166               ['nm0652213']   \n",
       "517167               ['nm7764440']   \n",
       "517168              ['nm10538612']   \n",
       "517169  ['nm9272490', 'nm8349149']   \n",
       "\n",
       "                                               n_ID_liste  Durée  \\\n",
       "0       ['nm0681726', 'nm0692612', 'nm0726256', 'nm077...    NaN   \n",
       "1       ['nm0147437', 'nm0615736', 'nm0615736', 'nm061...   60.0   \n",
       "2       ['nm0844752', 'nm0869732', 'nm0194720', 'nm065...  102.0   \n",
       "3       ['nm0934290', 'nm0167395', 'nm0766912', 'nm060...   56.0   \n",
       "4       ['nm0709790', 'nm0561755', 'nm0623443', 'nm048...   80.0   \n",
       "...                                                   ...    ...   \n",
       "517165  ['nm9272513', 'nm10538557', 'nm10538558', 'nm1...   57.0   \n",
       "517166  ['nm0033355', 'nm0127882', 'nm0133349', 'nm105...  100.0   \n",
       "517167  ['nm1778107', 'nm2585097', 'nm5697682', 'nm327...    NaN   \n",
       "517168  ['nm6096005', 'nm0059461', 'nm13233318', 'nm48...  116.0   \n",
       "517169  ['nm10538632', 'nm3699941', 'nm9813366', 'nm88...   49.0   \n",
       "\n",
       "                                 Genres  Note_moyenne  Nb_votants  \\\n",
       "0                   ['Action', 'Crime']           NaN         NaN   \n",
       "1                               ['\\\\N']           5.4        17.0   \n",
       "2       ['Drama', 'Mystery', 'Romance']           6.3        31.0   \n",
       "3                           ['Western']           6.0        61.0   \n",
       "4                             ['Drama']           5.2        62.0   \n",
       "...                                 ...           ...         ...   \n",
       "517165                  ['Documentary']           NaN         NaN   \n",
       "517166                  ['Documentary']           NaN         NaN   \n",
       "517167                       ['Comedy']           7.7         9.0   \n",
       "517168                        ['Drama']           7.0        12.0   \n",
       "517169                  ['Documentary']           NaN         NaN   \n",
       "\n",
       "                                         Titres_possibles  \n",
       "0       ['Tötet nicht mehr', 'Misericordia - Tötet nic...  \n",
       "1       ['La tierra de los toros', 'La terre des taure...  \n",
       "2       ['Dama de noche', 'Dama de noche', 'Éjszakai g...  \n",
       "3       ['Arizona Territory', 'Arizona Territory', 'Cu...  \n",
       "4       ['Lebbra bianca', 'A Lebre Branca', 'Brief Rap...  \n",
       "...                                                   ...  \n",
       "517165  ['Rodolpho Teóphilo - O Legado de um Pioneiro'...  \n",
       "517166  ['De la ilusión al desconcierto: cine colombia...  \n",
       "517167             ['Dankyavar Danka', 'Dankyavar Danka']  \n",
       "517168                                ['6 Gunn', '६ गुण']  \n",
       "517169  ['Chico Albuquerque - Revelações', 'Chico Albu...  \n",
       "\n",
       "[517170 rows x 10 columns]"
      ]
     },
     "execution_count": 65,
     "metadata": {},
     "output_type": "execute_result"
    }
   ],
   "source": [
    "df_tID"
   ]
  },
  {
   "cell_type": "markdown",
   "metadata": {},
   "source": [
    "2. Ensuite un df_nID"
   ]
  },
  {
   "cell_type": "code",
   "execution_count": 30,
   "metadata": {},
   "outputs": [
    {
     "ename": "NameError",
     "evalue": "name 'df_t_basics' is not defined",
     "output_type": "error",
     "traceback": [
      "\u001b[1;31m---------------------------------------------------------------------------\u001b[0m",
      "\u001b[1;31mNameError\u001b[0m                                 Traceback (most recent call last)",
      "Cell \u001b[1;32mIn[30], line 2\u001b[0m\n\u001b[0;32m      1\u001b[0m \u001b[38;5;66;03m#Tri de la table title basic pour avoir les tconst correspondant aux films\u001b[39;00m\n\u001b[1;32m----> 2\u001b[0m df_tb_nconst \u001b[38;5;241m=\u001b[39m df_tb_tconst \u001b[38;5;241m=\u001b[39m df_t_basics[(df_t_basics[\u001b[38;5;124m'\u001b[39m\u001b[38;5;124mtitleType\u001b[39m\u001b[38;5;124m'\u001b[39m] \u001b[38;5;241m==\u001b[39m \u001b[38;5;124m'\u001b[39m\u001b[38;5;124mmovie\u001b[39m\u001b[38;5;124m'\u001b[39m) \u001b[38;5;241m&\u001b[39m (df_t_basics[\u001b[38;5;124m'\u001b[39m\u001b[38;5;124mstartYear\u001b[39m\u001b[38;5;124m'\u001b[39m] \u001b[38;5;241m>\u001b[39m\u001b[38;5;241m=\u001b[39m \u001b[38;5;241m1960\u001b[39m) \u001b[38;5;241m&\u001b[39m (df_t_basics[\u001b[38;5;124m'\u001b[39m\u001b[38;5;124misAdult\u001b[39m\u001b[38;5;124m'\u001b[39m] \u001b[38;5;241m==\u001b[39m \u001b[38;5;241m0\u001b[39m)]\n\u001b[0;32m      3\u001b[0m df_tb_nconst \u001b[38;5;241m=\u001b[39m df_tb_nconst[[\u001b[38;5;124m'\u001b[39m\u001b[38;5;124mtconst\u001b[39m\u001b[38;5;124m'\u001b[39m]]\n\u001b[0;32m      4\u001b[0m df_tb_nconst \u001b[38;5;241m=\u001b[39m df_tb_nconst\u001b[38;5;241m.\u001b[39mreset_index()\n",
      "\u001b[1;31mNameError\u001b[0m: name 'df_t_basics' is not defined"
     ]
    }
   ],
   "source": [
    "#Tri de la table title basic pour avoir les tconst correspondant aux films\n",
    "df_tb_nconst = df_tb_tconst = df_t_basics[(df_t_basics['titleType'] == 'movie') & (df_t_basics['startYear'] >= 1960) & (df_t_basics['isAdult'] == 0)]\n",
    "df_tb_nconst = df_tb_nconst[['tconst']]\n",
    "df_tb_nconst = df_tb_nconst.reset_index()\n",
    "\n",
    "# Préparation table title principals avec seulement les acteurs\n",
    "df_t_principals_fusion = df_t_principals[(df_t_principals['category'] == 'actor') | (df_t_principals['category'] == 'actress')]\n",
    "df_t_principals_fusion = df_t_principals_fusion.drop('category', axis = 1)\n",
    "\n",
    "#Premier groupby tconst pour merge avec les tconst triés de title basics\n",
    "df_t_principals_fusion.groupby('tconst').agg(list).reset_index()\n",
    "\n",
    "#Premier merge par tconst\n",
    "df_nID = pd.merge(df_t_principals_fusion, df_tb_nconst, how = 'left', on = 'tconst')\n",
    "\n",
    "#Explode de la table mergée pour refaire le bon groupby cette fois par nconst\n",
    "df_nID = df_nID.explode('nconst')\n",
    "df_nID = df_nID.groupby('nconst').agg(list).reset_index()\n",
    "df_nID = df_nID.drop('index', axis = 1)\n",
    "\n",
    "#Ajouter des colonnes d'infos de l'acteur et une colonne nb de films:\n",
    "df_basic_name_fusion = df_basic_name[['nconst', 'primaryName', 'birthYear', 'deathYear']]\n",
    "df_nID = pd.merge(df_nID, df_basic_name_fusion, how = 'left', on = 'nconst')\n",
    "df_nID['Nb_films'] = df_nID['tconst'].apply(lambda x : len(x))\n",
    "\n",
    "#On renomme les colonnes\n",
    "df_nID = df_nID.rename(columns={'nconst' : 'n_ID', 'tconst' : 'films_joués', 'primaryName' : 'Nom', 'birthYear' : 'Année_naissance', 'deathYear' : 'Année_décès'})\n",
    "\n",
    "#Plus qu'a exporter!\n",
    "df_nID.to_csv('df_nID.csv', index = False)"
   ]
  },
  {
   "cell_type": "code",
   "execution_count": 66,
   "metadata": {},
   "outputs": [
    {
     "data": {
      "text/html": [
       "<div>\n",
       "<style scoped>\n",
       "    .dataframe tbody tr th:only-of-type {\n",
       "        vertical-align: middle;\n",
       "    }\n",
       "\n",
       "    .dataframe tbody tr th {\n",
       "        vertical-align: top;\n",
       "    }\n",
       "\n",
       "    .dataframe thead th {\n",
       "        text-align: right;\n",
       "    }\n",
       "</style>\n",
       "<table border=\"1\" class=\"dataframe\">\n",
       "  <thead>\n",
       "    <tr style=\"text-align: right;\">\n",
       "      <th></th>\n",
       "      <th>n_ID</th>\n",
       "      <th>films_joués</th>\n",
       "      <th>Nom</th>\n",
       "      <th>Année_naissance</th>\n",
       "      <th>Année_décès</th>\n",
       "      <th>Nb_films</th>\n",
       "    </tr>\n",
       "  </thead>\n",
       "  <tbody>\n",
       "    <tr>\n",
       "      <th>0</th>\n",
       "      <td>nm0000001</td>\n",
       "      <td>['tt0023926', 'tt0024025', 'tt0025164', 'tt002...</td>\n",
       "      <td>Fred Astaire</td>\n",
       "      <td>1899.0</td>\n",
       "      <td>1987.0</td>\n",
       "      <td>64</td>\n",
       "    </tr>\n",
       "    <tr>\n",
       "      <th>1</th>\n",
       "      <td>nm0000002</td>\n",
       "      <td>['tt0037382', 'tt0037610', 'tt0038355', 'tt003...</td>\n",
       "      <td>Lauren Bacall</td>\n",
       "      <td>1924.0</td>\n",
       "      <td>2014.0</td>\n",
       "      <td>79</td>\n",
       "    </tr>\n",
       "    <tr>\n",
       "      <th>2</th>\n",
       "      <td>nm0000003</td>\n",
       "      <td>['tt0044881', 'tt0046200', 'tt0047607', 'tt004...</td>\n",
       "      <td>Brigitte Bardot</td>\n",
       "      <td>1934.0</td>\n",
       "      <td>NaN</td>\n",
       "      <td>39</td>\n",
       "    </tr>\n",
       "    <tr>\n",
       "      <th>3</th>\n",
       "      <td>nm0000004</td>\n",
       "      <td>['tt0076816', 'tt0077147', 'tt0077621', 'tt007...</td>\n",
       "      <td>John Belushi</td>\n",
       "      <td>1949.0</td>\n",
       "      <td>1982.0</td>\n",
       "      <td>105</td>\n",
       "    </tr>\n",
       "    <tr>\n",
       "      <th>4</th>\n",
       "      <td>nm0000005</td>\n",
       "      <td>['tt0043048', 'tt0064793', 'tt0064897', 'tt006...</td>\n",
       "      <td>Ingmar Bergman</td>\n",
       "      <td>1918.0</td>\n",
       "      <td>2007.0</td>\n",
       "      <td>11</td>\n",
       "    </tr>\n",
       "    <tr>\n",
       "      <th>...</th>\n",
       "      <td>...</td>\n",
       "      <td>...</td>\n",
       "      <td>...</td>\n",
       "      <td>...</td>\n",
       "      <td>...</td>\n",
       "      <td>...</td>\n",
       "    </tr>\n",
       "    <tr>\n",
       "      <th>3432237</th>\n",
       "      <td>nm9993700</td>\n",
       "      <td>['tt8744178']</td>\n",
       "      <td>Sexy Angel</td>\n",
       "      <td>NaN</td>\n",
       "      <td>NaN</td>\n",
       "      <td>1</td>\n",
       "    </tr>\n",
       "    <tr>\n",
       "      <th>3432238</th>\n",
       "      <td>nm9993701</td>\n",
       "      <td>['tt8736744']</td>\n",
       "      <td>Sanjai Kuriakose</td>\n",
       "      <td>NaN</td>\n",
       "      <td>NaN</td>\n",
       "      <td>1</td>\n",
       "    </tr>\n",
       "    <tr>\n",
       "      <th>3432239</th>\n",
       "      <td>nm9993703</td>\n",
       "      <td>['tt11212278', 'tt26598427']</td>\n",
       "      <td>James Craigmyle</td>\n",
       "      <td>NaN</td>\n",
       "      <td>NaN</td>\n",
       "      <td>2</td>\n",
       "    </tr>\n",
       "    <tr>\n",
       "      <th>3432240</th>\n",
       "      <td>nm9993708</td>\n",
       "      <td>['tt11697102', 'tt11702702', 'tt11772842', 'tt...</td>\n",
       "      <td>Eli Bevins</td>\n",
       "      <td>NaN</td>\n",
       "      <td>NaN</td>\n",
       "      <td>5</td>\n",
       "    </tr>\n",
       "    <tr>\n",
       "      <th>3432241</th>\n",
       "      <td>nm9993709</td>\n",
       "      <td>['tt11702702', 'tt11772842', 'tt14508814', 'tt...</td>\n",
       "      <td>Lu Bevins</td>\n",
       "      <td>NaN</td>\n",
       "      <td>NaN</td>\n",
       "      <td>4</td>\n",
       "    </tr>\n",
       "  </tbody>\n",
       "</table>\n",
       "<p>3432242 rows × 6 columns</p>\n",
       "</div>"
      ],
      "text/plain": [
       "              n_ID                                        films_joués  \\\n",
       "0        nm0000001  ['tt0023926', 'tt0024025', 'tt0025164', 'tt002...   \n",
       "1        nm0000002  ['tt0037382', 'tt0037610', 'tt0038355', 'tt003...   \n",
       "2        nm0000003  ['tt0044881', 'tt0046200', 'tt0047607', 'tt004...   \n",
       "3        nm0000004  ['tt0076816', 'tt0077147', 'tt0077621', 'tt007...   \n",
       "4        nm0000005  ['tt0043048', 'tt0064793', 'tt0064897', 'tt006...   \n",
       "...            ...                                                ...   \n",
       "3432237  nm9993700                                      ['tt8744178']   \n",
       "3432238  nm9993701                                      ['tt8736744']   \n",
       "3432239  nm9993703                       ['tt11212278', 'tt26598427']   \n",
       "3432240  nm9993708  ['tt11697102', 'tt11702702', 'tt11772842', 'tt...   \n",
       "3432241  nm9993709  ['tt11702702', 'tt11772842', 'tt14508814', 'tt...   \n",
       "\n",
       "                      Nom  Année_naissance  Année_décès  Nb_films  \n",
       "0            Fred Astaire           1899.0       1987.0        64  \n",
       "1           Lauren Bacall           1924.0       2014.0        79  \n",
       "2         Brigitte Bardot           1934.0          NaN        39  \n",
       "3            John Belushi           1949.0       1982.0       105  \n",
       "4          Ingmar Bergman           1918.0       2007.0        11  \n",
       "...                   ...              ...          ...       ...  \n",
       "3432237        Sexy Angel              NaN          NaN         1  \n",
       "3432238  Sanjai Kuriakose              NaN          NaN         1  \n",
       "3432239   James Craigmyle              NaN          NaN         2  \n",
       "3432240        Eli Bevins              NaN          NaN         5  \n",
       "3432241         Lu Bevins              NaN          NaN         4  \n",
       "\n",
       "[3432242 rows x 6 columns]"
      ]
     },
     "execution_count": 66,
     "metadata": {},
     "output_type": "execute_result"
    }
   ],
   "source": [
    "df_nID"
   ]
  },
  {
   "cell_type": "markdown",
   "metadata": {},
   "source": [
    "3. Enfin nettoyage de la table TMDB qui sera notre base pour le système de recommandation"
   ]
  },
  {
   "cell_type": "markdown",
   "metadata": {},
   "source": [
    "### Supprimer les lignes avec liste vide dans colonne genre\n",
    "### Choisir les colonnes à garder"
   ]
  },
  {
   "cell_type": "code",
   "execution_count": 136,
   "metadata": {},
   "outputs": [],
   "source": [
    "#L'énoncé nous demandant d'afficher l'affiche du film, on commence par supprimer les lignes qui ne renseignent pas le lien de l'affiche (45413/309572)\n",
    "df_tmdb_clean = df_tmdb.dropna(subset=['poster_path'])\n",
    "\n",
    "#Il reste 1 ligne qui renvoie à un film pour public adulte, restons courtois et supprimons la!\n",
    "df_tmdb_clean = df_tmdb_clean[df_tmdb_clean['adult'] == False]\n",
    "\n",
    "#D'après notre étude de marché nous allons nous limiter aux films Français et Anglais, en faisant le filtre au niveau de la langue\n",
    "#pour garder les films francophones et anglophones plutôt que français et anglais.\n",
    "df_tmdb_clean = df_tmdb_clean[(df_tmdb_clean['original_language'] == 'fr') | (df_tmdb_clean['original_language'] == 'en')]\n",
    "df_tmdb_clean = df_tmdb_clean[(df_tmdb_clean['spoken_languages'].str.contains('fr')) | (df_tmdb_clean['spoken_languages'].str.contains('en'))]\n",
    "\n",
    "#La colonne 'release_date' doit être au format datetime pour filtrer les films > 1960 (suppression de 27335 lignes sur 264158 (10%)) et les classer:\n",
    "df_tmdb_clean[\"release_date\"] = pd.to_datetime(df_tmdb_clean[\"release_date\"])\n",
    "df_tmdb_clean = df_tmdb_clean[df_tmdb_clean[\"release_date\"].dt.year > 1960]\n",
    "df_tmdb_clean = df_tmdb_clean.sort_values('release_date')\n",
    "\n",
    "#On supprime 3600 lignes avec runtime = 0:\n",
    "df_tmdb_clean = df_tmdb_clean[df_tmdb_clean['runtime'] > 0]\n",
    "\n",
    "#117 films pas encore sortis, on peut les retirer: \n",
    "df_tmdb_clean = df_tmdb_clean[df_tmdb_clean['status'] == 'Released']\n",
    "\n",
    "#Filtrage des lignes avec genre non renseigné\n",
    "df_tmdb_clean = df_tmdb_clean[df_tmdb_clean['genres'].str.len() > 2]\n",
    " \n",
    "#Conversion de la colonne 'genre' en liste\n",
    "import ast\n",
    "df_tmdb_clean['genres'] = df_tmdb_clean['genres'].apply(ast.literal_eval) \n",
    "\n",
    "df_tmdb_clean = df_tmdb_clean.reset_index()\n",
    "\n",
    "#On va maintenant sélectionner et réaranger les colonnes pertinentes:\n",
    "#INDEX on vire car on en fera un propre\n",
    "#ADULT non pertinent car on ne les garde pas\n",
    "#BACKDROP_PATH non pertinent car on peut avoir les posters\n",
    "#Seulement 22316/236823 avec un BUDGET > 0 : colonne non pertinentepour ML mais on garde pour afficher si besoin\n",
    "#Seulement 14537/236823 avec un REVENUE > 0 : colonne non pertinente \n",
    "df_tmdb_clean = df_tmdb_clean[['index', 'adult', 'backdrop_path', 'budget', 'genres', 'homepage', 'id',\n",
    "       'imdb_id', 'original_language', 'original_title', 'overview',\n",
    "       'popularity', 'poster_path', 'production_countries', 'release_date',\n",
    "       'revenue', 'runtime', 'spoken_languages', 'status', 'tagline', 'title',\n",
    "       'video', 'vote_average', 'vote_count', 'production_companies_name',\n",
    "       'production_companies_country']]"
   ]
  },
  {
   "cell_type": "code",
   "execution_count": 138,
   "metadata": {},
   "outputs": [
    {
     "data": {
      "text/plain": [
       "Index(['index', 'adult', 'backdrop_path', 'budget', 'genres', 'homepage', 'id',\n",
       "       'imdb_id', 'original_language', 'original_title', 'overview',\n",
       "       'popularity', 'poster_path', 'production_countries', 'release_date',\n",
       "       'revenue', 'runtime', 'spoken_languages', 'status', 'tagline', 'title',\n",
       "       'video', 'vote_average', 'vote_count', 'production_companies_name',\n",
       "       'production_companies_country'],\n",
       "      dtype='object')"
      ]
     },
     "execution_count": 138,
     "metadata": {},
     "output_type": "execute_result"
    }
   ],
   "source": [
    "df_tmdb_clean.columns"
   ]
  },
  {
   "cell_type": "code",
   "execution_count": 83,
   "metadata": {},
   "outputs": [],
   "source": [
    "df_test = df_tmdb_clean[(df_tmdb_clean['vote_count'] > 0) & ((df_tmdb_clean['original_language'] == 'fr') | (df_tmdb_clean['original_language'] == 'en'))]"
   ]
  },
  {
   "cell_type": "code",
   "execution_count": 86,
   "metadata": {},
   "outputs": [
    {
     "name": "stdout",
     "output_type": "stream",
     "text": [
      "6.0\n",
      "5.833671870768041\n"
     ]
    }
   ],
   "source": [
    "print(df_test['vote_average'].median())\n",
    "print(df_test['vote_average'].mean())"
   ]
  },
  {
   "cell_type": "code",
   "execution_count": null,
   "metadata": {},
   "outputs": [
    {
     "data": {
      "text/plain": [
       "0.408827862751948"
      ]
     },
     "execution_count": 78,
     "metadata": {},
     "output_type": "execute_result"
    }
   ],
   "source": [
    "df_tmdb_clean['score'] = df_tmdb_clean['vote_average'] * df_tmdb_clean['popularity']"
   ]
  },
  {
   "cell_type": "code",
   "execution_count": null,
   "metadata": {},
   "outputs": [
    {
     "data": {
      "text/plain": [
       "<Axes: xlabel='imdb_id', ylabel='popularity'>"
      ]
     },
     "execution_count": 89,
     "metadata": {},
     "output_type": "execute_result"
    },
    {
     "name": "stdout",
     "output_type": "stream",
     "text": [
      "Error in callback <function _draw_all_if_interactive at 0x000002500CD10A40> (for post_execute), with arguments args (),kwargs {}:\n"
     ]
    },
    {
     "ename": "KeyboardInterrupt",
     "evalue": "",
     "output_type": "error",
     "traceback": [
      "\u001b[1;31m---------------------------------------------------------------------------\u001b[0m",
      "\u001b[1;31mKeyboardInterrupt\u001b[0m                         Traceback (most recent call last)",
      "File \u001b[1;32mc:\\Users\\Antoine\\anaconda3\\Lib\\site-packages\\matplotlib\\pyplot.py:197\u001b[0m, in \u001b[0;36m_draw_all_if_interactive\u001b[1;34m()\u001b[0m\n\u001b[0;32m    195\u001b[0m \u001b[38;5;28;01mdef\u001b[39;00m \u001b[38;5;21m_draw_all_if_interactive\u001b[39m() \u001b[38;5;241m-\u001b[39m\u001b[38;5;241m>\u001b[39m \u001b[38;5;28;01mNone\u001b[39;00m:\n\u001b[0;32m    196\u001b[0m     \u001b[38;5;28;01mif\u001b[39;00m matplotlib\u001b[38;5;241m.\u001b[39mis_interactive():\n\u001b[1;32m--> 197\u001b[0m         draw_all()\n",
      "File \u001b[1;32mc:\\Users\\Antoine\\anaconda3\\Lib\\site-packages\\matplotlib\\_pylab_helpers.py:132\u001b[0m, in \u001b[0;36mGcf.draw_all\u001b[1;34m(cls, force)\u001b[0m\n\u001b[0;32m    130\u001b[0m \u001b[38;5;28;01mfor\u001b[39;00m manager \u001b[38;5;129;01min\u001b[39;00m \u001b[38;5;28mcls\u001b[39m\u001b[38;5;241m.\u001b[39mget_all_fig_managers():\n\u001b[0;32m    131\u001b[0m     \u001b[38;5;28;01mif\u001b[39;00m force \u001b[38;5;129;01mor\u001b[39;00m manager\u001b[38;5;241m.\u001b[39mcanvas\u001b[38;5;241m.\u001b[39mfigure\u001b[38;5;241m.\u001b[39mstale:\n\u001b[1;32m--> 132\u001b[0m         manager\u001b[38;5;241m.\u001b[39mcanvas\u001b[38;5;241m.\u001b[39mdraw_idle()\n",
      "File \u001b[1;32mc:\\Users\\Antoine\\anaconda3\\Lib\\site-packages\\matplotlib\\backend_bases.py:1893\u001b[0m, in \u001b[0;36mFigureCanvasBase.draw_idle\u001b[1;34m(self, *args, **kwargs)\u001b[0m\n\u001b[0;32m   1891\u001b[0m \u001b[38;5;28;01mif\u001b[39;00m \u001b[38;5;129;01mnot\u001b[39;00m \u001b[38;5;28mself\u001b[39m\u001b[38;5;241m.\u001b[39m_is_idle_drawing:\n\u001b[0;32m   1892\u001b[0m     \u001b[38;5;28;01mwith\u001b[39;00m \u001b[38;5;28mself\u001b[39m\u001b[38;5;241m.\u001b[39m_idle_draw_cntx():\n\u001b[1;32m-> 1893\u001b[0m         \u001b[38;5;28mself\u001b[39m\u001b[38;5;241m.\u001b[39mdraw(\u001b[38;5;241m*\u001b[39margs, \u001b[38;5;241m*\u001b[39m\u001b[38;5;241m*\u001b[39mkwargs)\n",
      "File \u001b[1;32mc:\\Users\\Antoine\\anaconda3\\Lib\\site-packages\\matplotlib\\backends\\backend_agg.py:388\u001b[0m, in \u001b[0;36mFigureCanvasAgg.draw\u001b[1;34m(self)\u001b[0m\n\u001b[0;32m    385\u001b[0m \u001b[38;5;66;03m# Acquire a lock on the shared font cache.\u001b[39;00m\n\u001b[0;32m    386\u001b[0m \u001b[38;5;28;01mwith\u001b[39;00m (\u001b[38;5;28mself\u001b[39m\u001b[38;5;241m.\u001b[39mtoolbar\u001b[38;5;241m.\u001b[39m_wait_cursor_for_draw_cm() \u001b[38;5;28;01mif\u001b[39;00m \u001b[38;5;28mself\u001b[39m\u001b[38;5;241m.\u001b[39mtoolbar\n\u001b[0;32m    387\u001b[0m       \u001b[38;5;28;01melse\u001b[39;00m nullcontext()):\n\u001b[1;32m--> 388\u001b[0m     \u001b[38;5;28mself\u001b[39m\u001b[38;5;241m.\u001b[39mfigure\u001b[38;5;241m.\u001b[39mdraw(\u001b[38;5;28mself\u001b[39m\u001b[38;5;241m.\u001b[39mrenderer)\n\u001b[0;32m    389\u001b[0m     \u001b[38;5;66;03m# A GUI class may be need to update a window using this draw, so\u001b[39;00m\n\u001b[0;32m    390\u001b[0m     \u001b[38;5;66;03m# don't forget to call the superclass.\u001b[39;00m\n\u001b[0;32m    391\u001b[0m     \u001b[38;5;28msuper\u001b[39m()\u001b[38;5;241m.\u001b[39mdraw()\n",
      "File \u001b[1;32mc:\\Users\\Antoine\\anaconda3\\Lib\\site-packages\\matplotlib\\artist.py:95\u001b[0m, in \u001b[0;36m_finalize_rasterization.<locals>.draw_wrapper\u001b[1;34m(artist, renderer, *args, **kwargs)\u001b[0m\n\u001b[0;32m     93\u001b[0m \u001b[38;5;129m@wraps\u001b[39m(draw)\n\u001b[0;32m     94\u001b[0m \u001b[38;5;28;01mdef\u001b[39;00m \u001b[38;5;21mdraw_wrapper\u001b[39m(artist, renderer, \u001b[38;5;241m*\u001b[39margs, \u001b[38;5;241m*\u001b[39m\u001b[38;5;241m*\u001b[39mkwargs):\n\u001b[1;32m---> 95\u001b[0m     result \u001b[38;5;241m=\u001b[39m draw(artist, renderer, \u001b[38;5;241m*\u001b[39margs, \u001b[38;5;241m*\u001b[39m\u001b[38;5;241m*\u001b[39mkwargs)\n\u001b[0;32m     96\u001b[0m     \u001b[38;5;28;01mif\u001b[39;00m renderer\u001b[38;5;241m.\u001b[39m_rasterizing:\n\u001b[0;32m     97\u001b[0m         renderer\u001b[38;5;241m.\u001b[39mstop_rasterizing()\n",
      "File \u001b[1;32mc:\\Users\\Antoine\\anaconda3\\Lib\\site-packages\\matplotlib\\artist.py:72\u001b[0m, in \u001b[0;36mallow_rasterization.<locals>.draw_wrapper\u001b[1;34m(artist, renderer)\u001b[0m\n\u001b[0;32m     69\u001b[0m     \u001b[38;5;28;01mif\u001b[39;00m artist\u001b[38;5;241m.\u001b[39mget_agg_filter() \u001b[38;5;129;01mis\u001b[39;00m \u001b[38;5;129;01mnot\u001b[39;00m \u001b[38;5;28;01mNone\u001b[39;00m:\n\u001b[0;32m     70\u001b[0m         renderer\u001b[38;5;241m.\u001b[39mstart_filter()\n\u001b[1;32m---> 72\u001b[0m     \u001b[38;5;28;01mreturn\u001b[39;00m draw(artist, renderer)\n\u001b[0;32m     73\u001b[0m \u001b[38;5;28;01mfinally\u001b[39;00m:\n\u001b[0;32m     74\u001b[0m     \u001b[38;5;28;01mif\u001b[39;00m artist\u001b[38;5;241m.\u001b[39mget_agg_filter() \u001b[38;5;129;01mis\u001b[39;00m \u001b[38;5;129;01mnot\u001b[39;00m \u001b[38;5;28;01mNone\u001b[39;00m:\n",
      "File \u001b[1;32mc:\\Users\\Antoine\\anaconda3\\Lib\\site-packages\\matplotlib\\figure.py:3154\u001b[0m, in \u001b[0;36mFigure.draw\u001b[1;34m(self, renderer)\u001b[0m\n\u001b[0;32m   3151\u001b[0m         \u001b[38;5;66;03m# ValueError can occur when resizing a window.\u001b[39;00m\n\u001b[0;32m   3153\u001b[0m \u001b[38;5;28mself\u001b[39m\u001b[38;5;241m.\u001b[39mpatch\u001b[38;5;241m.\u001b[39mdraw(renderer)\n\u001b[1;32m-> 3154\u001b[0m mimage\u001b[38;5;241m.\u001b[39m_draw_list_compositing_images(\n\u001b[0;32m   3155\u001b[0m     renderer, \u001b[38;5;28mself\u001b[39m, artists, \u001b[38;5;28mself\u001b[39m\u001b[38;5;241m.\u001b[39msuppressComposite)\n\u001b[0;32m   3157\u001b[0m \u001b[38;5;28;01mfor\u001b[39;00m sfig \u001b[38;5;129;01min\u001b[39;00m \u001b[38;5;28mself\u001b[39m\u001b[38;5;241m.\u001b[39msubfigs:\n\u001b[0;32m   3158\u001b[0m     sfig\u001b[38;5;241m.\u001b[39mdraw(renderer)\n",
      "File \u001b[1;32mc:\\Users\\Antoine\\anaconda3\\Lib\\site-packages\\matplotlib\\image.py:132\u001b[0m, in \u001b[0;36m_draw_list_compositing_images\u001b[1;34m(renderer, parent, artists, suppress_composite)\u001b[0m\n\u001b[0;32m    130\u001b[0m \u001b[38;5;28;01mif\u001b[39;00m not_composite \u001b[38;5;129;01mor\u001b[39;00m \u001b[38;5;129;01mnot\u001b[39;00m has_images:\n\u001b[0;32m    131\u001b[0m     \u001b[38;5;28;01mfor\u001b[39;00m a \u001b[38;5;129;01min\u001b[39;00m artists:\n\u001b[1;32m--> 132\u001b[0m         a\u001b[38;5;241m.\u001b[39mdraw(renderer)\n\u001b[0;32m    133\u001b[0m \u001b[38;5;28;01melse\u001b[39;00m:\n\u001b[0;32m    134\u001b[0m     \u001b[38;5;66;03m# Composite any adjacent images together\u001b[39;00m\n\u001b[0;32m    135\u001b[0m     image_group \u001b[38;5;241m=\u001b[39m []\n",
      "File \u001b[1;32mc:\\Users\\Antoine\\anaconda3\\Lib\\site-packages\\matplotlib\\artist.py:72\u001b[0m, in \u001b[0;36mallow_rasterization.<locals>.draw_wrapper\u001b[1;34m(artist, renderer)\u001b[0m\n\u001b[0;32m     69\u001b[0m     \u001b[38;5;28;01mif\u001b[39;00m artist\u001b[38;5;241m.\u001b[39mget_agg_filter() \u001b[38;5;129;01mis\u001b[39;00m \u001b[38;5;129;01mnot\u001b[39;00m \u001b[38;5;28;01mNone\u001b[39;00m:\n\u001b[0;32m     70\u001b[0m         renderer\u001b[38;5;241m.\u001b[39mstart_filter()\n\u001b[1;32m---> 72\u001b[0m     \u001b[38;5;28;01mreturn\u001b[39;00m draw(artist, renderer)\n\u001b[0;32m     73\u001b[0m \u001b[38;5;28;01mfinally\u001b[39;00m:\n\u001b[0;32m     74\u001b[0m     \u001b[38;5;28;01mif\u001b[39;00m artist\u001b[38;5;241m.\u001b[39mget_agg_filter() \u001b[38;5;129;01mis\u001b[39;00m \u001b[38;5;129;01mnot\u001b[39;00m \u001b[38;5;28;01mNone\u001b[39;00m:\n",
      "File \u001b[1;32mc:\\Users\\Antoine\\anaconda3\\Lib\\site-packages\\matplotlib\\axes\\_base.py:3070\u001b[0m, in \u001b[0;36m_AxesBase.draw\u001b[1;34m(self, renderer)\u001b[0m\n\u001b[0;32m   3067\u001b[0m \u001b[38;5;28;01mif\u001b[39;00m artists_rasterized:\n\u001b[0;32m   3068\u001b[0m     _draw_rasterized(\u001b[38;5;28mself\u001b[39m\u001b[38;5;241m.\u001b[39mfigure, artists_rasterized, renderer)\n\u001b[1;32m-> 3070\u001b[0m mimage\u001b[38;5;241m.\u001b[39m_draw_list_compositing_images(\n\u001b[0;32m   3071\u001b[0m     renderer, \u001b[38;5;28mself\u001b[39m, artists, \u001b[38;5;28mself\u001b[39m\u001b[38;5;241m.\u001b[39mfigure\u001b[38;5;241m.\u001b[39msuppressComposite)\n\u001b[0;32m   3073\u001b[0m renderer\u001b[38;5;241m.\u001b[39mclose_group(\u001b[38;5;124m'\u001b[39m\u001b[38;5;124maxes\u001b[39m\u001b[38;5;124m'\u001b[39m)\n\u001b[0;32m   3074\u001b[0m \u001b[38;5;28mself\u001b[39m\u001b[38;5;241m.\u001b[39mstale \u001b[38;5;241m=\u001b[39m \u001b[38;5;28;01mFalse\u001b[39;00m\n",
      "File \u001b[1;32mc:\\Users\\Antoine\\anaconda3\\Lib\\site-packages\\matplotlib\\image.py:132\u001b[0m, in \u001b[0;36m_draw_list_compositing_images\u001b[1;34m(renderer, parent, artists, suppress_composite)\u001b[0m\n\u001b[0;32m    130\u001b[0m \u001b[38;5;28;01mif\u001b[39;00m not_composite \u001b[38;5;129;01mor\u001b[39;00m \u001b[38;5;129;01mnot\u001b[39;00m has_images:\n\u001b[0;32m    131\u001b[0m     \u001b[38;5;28;01mfor\u001b[39;00m a \u001b[38;5;129;01min\u001b[39;00m artists:\n\u001b[1;32m--> 132\u001b[0m         a\u001b[38;5;241m.\u001b[39mdraw(renderer)\n\u001b[0;32m    133\u001b[0m \u001b[38;5;28;01melse\u001b[39;00m:\n\u001b[0;32m    134\u001b[0m     \u001b[38;5;66;03m# Composite any adjacent images together\u001b[39;00m\n\u001b[0;32m    135\u001b[0m     image_group \u001b[38;5;241m=\u001b[39m []\n",
      "File \u001b[1;32mc:\\Users\\Antoine\\anaconda3\\Lib\\site-packages\\matplotlib\\artist.py:72\u001b[0m, in \u001b[0;36mallow_rasterization.<locals>.draw_wrapper\u001b[1;34m(artist, renderer)\u001b[0m\n\u001b[0;32m     69\u001b[0m     \u001b[38;5;28;01mif\u001b[39;00m artist\u001b[38;5;241m.\u001b[39mget_agg_filter() \u001b[38;5;129;01mis\u001b[39;00m \u001b[38;5;129;01mnot\u001b[39;00m \u001b[38;5;28;01mNone\u001b[39;00m:\n\u001b[0;32m     70\u001b[0m         renderer\u001b[38;5;241m.\u001b[39mstart_filter()\n\u001b[1;32m---> 72\u001b[0m     \u001b[38;5;28;01mreturn\u001b[39;00m draw(artist, renderer)\n\u001b[0;32m     73\u001b[0m \u001b[38;5;28;01mfinally\u001b[39;00m:\n\u001b[0;32m     74\u001b[0m     \u001b[38;5;28;01mif\u001b[39;00m artist\u001b[38;5;241m.\u001b[39mget_agg_filter() \u001b[38;5;129;01mis\u001b[39;00m \u001b[38;5;129;01mnot\u001b[39;00m \u001b[38;5;28;01mNone\u001b[39;00m:\n",
      "File \u001b[1;32mc:\\Users\\Antoine\\anaconda3\\Lib\\site-packages\\matplotlib\\axis.py:1391\u001b[0m, in \u001b[0;36mAxis.draw\u001b[1;34m(self, renderer, *args, **kwargs)\u001b[0m\n\u001b[0;32m   1388\u001b[0m tlb1, tlb2 \u001b[38;5;241m=\u001b[39m \u001b[38;5;28mself\u001b[39m\u001b[38;5;241m.\u001b[39m_get_ticklabel_bboxes(ticks_to_draw, renderer)\n\u001b[0;32m   1390\u001b[0m \u001b[38;5;28;01mfor\u001b[39;00m tick \u001b[38;5;129;01min\u001b[39;00m ticks_to_draw:\n\u001b[1;32m-> 1391\u001b[0m     tick\u001b[38;5;241m.\u001b[39mdraw(renderer)\n\u001b[0;32m   1393\u001b[0m \u001b[38;5;66;03m# Shift label away from axes to avoid overlapping ticklabels.\u001b[39;00m\n\u001b[0;32m   1394\u001b[0m \u001b[38;5;28mself\u001b[39m\u001b[38;5;241m.\u001b[39m_update_label_position(renderer)\n",
      "File \u001b[1;32mc:\\Users\\Antoine\\anaconda3\\Lib\\site-packages\\matplotlib\\artist.py:72\u001b[0m, in \u001b[0;36mallow_rasterization.<locals>.draw_wrapper\u001b[1;34m(artist, renderer)\u001b[0m\n\u001b[0;32m     69\u001b[0m     \u001b[38;5;28;01mif\u001b[39;00m artist\u001b[38;5;241m.\u001b[39mget_agg_filter() \u001b[38;5;129;01mis\u001b[39;00m \u001b[38;5;129;01mnot\u001b[39;00m \u001b[38;5;28;01mNone\u001b[39;00m:\n\u001b[0;32m     70\u001b[0m         renderer\u001b[38;5;241m.\u001b[39mstart_filter()\n\u001b[1;32m---> 72\u001b[0m     \u001b[38;5;28;01mreturn\u001b[39;00m draw(artist, renderer)\n\u001b[0;32m     73\u001b[0m \u001b[38;5;28;01mfinally\u001b[39;00m:\n\u001b[0;32m     74\u001b[0m     \u001b[38;5;28;01mif\u001b[39;00m artist\u001b[38;5;241m.\u001b[39mget_agg_filter() \u001b[38;5;129;01mis\u001b[39;00m \u001b[38;5;129;01mnot\u001b[39;00m \u001b[38;5;28;01mNone\u001b[39;00m:\n",
      "File \u001b[1;32mc:\\Users\\Antoine\\anaconda3\\Lib\\site-packages\\matplotlib\\axis.py:295\u001b[0m, in \u001b[0;36mTick.draw\u001b[1;34m(self, renderer)\u001b[0m\n\u001b[0;32m    292\u001b[0m renderer\u001b[38;5;241m.\u001b[39mopen_group(\u001b[38;5;28mself\u001b[39m\u001b[38;5;241m.\u001b[39m\u001b[38;5;18m__name__\u001b[39m, gid\u001b[38;5;241m=\u001b[39m\u001b[38;5;28mself\u001b[39m\u001b[38;5;241m.\u001b[39mget_gid())\n\u001b[0;32m    293\u001b[0m \u001b[38;5;28;01mfor\u001b[39;00m artist \u001b[38;5;129;01min\u001b[39;00m [\u001b[38;5;28mself\u001b[39m\u001b[38;5;241m.\u001b[39mgridline, \u001b[38;5;28mself\u001b[39m\u001b[38;5;241m.\u001b[39mtick1line, \u001b[38;5;28mself\u001b[39m\u001b[38;5;241m.\u001b[39mtick2line,\n\u001b[0;32m    294\u001b[0m                \u001b[38;5;28mself\u001b[39m\u001b[38;5;241m.\u001b[39mlabel1, \u001b[38;5;28mself\u001b[39m\u001b[38;5;241m.\u001b[39mlabel2]:\n\u001b[1;32m--> 295\u001b[0m     artist\u001b[38;5;241m.\u001b[39mdraw(renderer)\n\u001b[0;32m    296\u001b[0m renderer\u001b[38;5;241m.\u001b[39mclose_group(\u001b[38;5;28mself\u001b[39m\u001b[38;5;241m.\u001b[39m\u001b[38;5;18m__name__\u001b[39m)\n\u001b[0;32m    297\u001b[0m \u001b[38;5;28mself\u001b[39m\u001b[38;5;241m.\u001b[39mstale \u001b[38;5;241m=\u001b[39m \u001b[38;5;28;01mFalse\u001b[39;00m\n",
      "File \u001b[1;32mc:\\Users\\Antoine\\anaconda3\\Lib\\site-packages\\matplotlib\\artist.py:72\u001b[0m, in \u001b[0;36mallow_rasterization.<locals>.draw_wrapper\u001b[1;34m(artist, renderer)\u001b[0m\n\u001b[0;32m     69\u001b[0m     \u001b[38;5;28;01mif\u001b[39;00m artist\u001b[38;5;241m.\u001b[39mget_agg_filter() \u001b[38;5;129;01mis\u001b[39;00m \u001b[38;5;129;01mnot\u001b[39;00m \u001b[38;5;28;01mNone\u001b[39;00m:\n\u001b[0;32m     70\u001b[0m         renderer\u001b[38;5;241m.\u001b[39mstart_filter()\n\u001b[1;32m---> 72\u001b[0m     \u001b[38;5;28;01mreturn\u001b[39;00m draw(artist, renderer)\n\u001b[0;32m     73\u001b[0m \u001b[38;5;28;01mfinally\u001b[39;00m:\n\u001b[0;32m     74\u001b[0m     \u001b[38;5;28;01mif\u001b[39;00m artist\u001b[38;5;241m.\u001b[39mget_agg_filter() \u001b[38;5;129;01mis\u001b[39;00m \u001b[38;5;129;01mnot\u001b[39;00m \u001b[38;5;28;01mNone\u001b[39;00m:\n",
      "File \u001b[1;32mc:\\Users\\Antoine\\anaconda3\\Lib\\site-packages\\matplotlib\\text.py:797\u001b[0m, in \u001b[0;36mText.draw\u001b[1;34m(self, renderer)\u001b[0m\n\u001b[0;32m    793\u001b[0m             textrenderer\u001b[38;5;241m.\u001b[39mdraw_tex(gc, x, y, clean_line,\n\u001b[0;32m    794\u001b[0m                                   \u001b[38;5;28mself\u001b[39m\u001b[38;5;241m.\u001b[39m_fontproperties, angle,\n\u001b[0;32m    795\u001b[0m                                   mtext\u001b[38;5;241m=\u001b[39mmtext)\n\u001b[0;32m    796\u001b[0m         \u001b[38;5;28;01melse\u001b[39;00m:\n\u001b[1;32m--> 797\u001b[0m             textrenderer\u001b[38;5;241m.\u001b[39mdraw_text(gc, x, y, clean_line,\n\u001b[0;32m    798\u001b[0m                                    \u001b[38;5;28mself\u001b[39m\u001b[38;5;241m.\u001b[39m_fontproperties, angle,\n\u001b[0;32m    799\u001b[0m                                    ismath\u001b[38;5;241m=\u001b[39mismath, mtext\u001b[38;5;241m=\u001b[39mmtext)\n\u001b[0;32m    801\u001b[0m gc\u001b[38;5;241m.\u001b[39mrestore()\n\u001b[0;32m    802\u001b[0m renderer\u001b[38;5;241m.\u001b[39mclose_group(\u001b[38;5;124m'\u001b[39m\u001b[38;5;124mtext\u001b[39m\u001b[38;5;124m'\u001b[39m)\n",
      "File \u001b[1;32mc:\\Users\\Antoine\\anaconda3\\Lib\\site-packages\\matplotlib\\backends\\backend_agg.py:194\u001b[0m, in \u001b[0;36mRendererAgg.draw_text\u001b[1;34m(self, gc, x, y, s, prop, angle, ismath, mtext)\u001b[0m\n\u001b[0;32m    191\u001b[0m font \u001b[38;5;241m=\u001b[39m \u001b[38;5;28mself\u001b[39m\u001b[38;5;241m.\u001b[39m_prepare_font(prop)\n\u001b[0;32m    192\u001b[0m \u001b[38;5;66;03m# We pass '0' for angle here, since it will be rotated (in raster\u001b[39;00m\n\u001b[0;32m    193\u001b[0m \u001b[38;5;66;03m# space) in the following call to draw_text_image).\u001b[39;00m\n\u001b[1;32m--> 194\u001b[0m font\u001b[38;5;241m.\u001b[39mset_text(s, \u001b[38;5;241m0\u001b[39m, flags\u001b[38;5;241m=\u001b[39mget_hinting_flag())\n\u001b[0;32m    195\u001b[0m font\u001b[38;5;241m.\u001b[39mdraw_glyphs_to_bitmap(\n\u001b[0;32m    196\u001b[0m     antialiased\u001b[38;5;241m=\u001b[39mgc\u001b[38;5;241m.\u001b[39mget_antialiased())\n\u001b[0;32m    197\u001b[0m d \u001b[38;5;241m=\u001b[39m font\u001b[38;5;241m.\u001b[39mget_descent() \u001b[38;5;241m/\u001b[39m \u001b[38;5;241m64.0\u001b[39m\n",
      "\u001b[1;31mKeyboardInterrupt\u001b[0m: "
     ]
    },
    {
     "ename": "",
     "evalue": "",
     "output_type": "error",
     "traceback": [
      "\u001b[1;31mFailed to interrupt the Kernel. \n",
      "\u001b[1;31mUnable to start Kernel 'base (Python 3.12.4)' due to a timeout waiting for the ports to get used. \n",
      "\u001b[1;31mView Jupyter <a href='command:jupyter.viewOutput'>log</a> for further details."
     ]
    }
   ],
   "source": [
    "sns.scatterplot(data = df_test, x = 'imdb_id', y = 'popularity')"
   ]
  },
  {
   "cell_type": "code",
   "execution_count": null,
   "metadata": {},
   "outputs": [],
   "source": []
  }
 ],
 "metadata": {
  "kernelspec": {
   "display_name": "base",
   "language": "python",
   "name": "python3"
  },
  "language_info": {
   "codemirror_mode": {
    "name": "ipython",
    "version": 3
   },
   "file_extension": ".py",
   "mimetype": "text/x-python",
   "name": "python",
   "nbconvert_exporter": "python",
   "pygments_lexer": "ipython3",
   "version": "3.12.4"
  }
 },
 "nbformat": 4,
 "nbformat_minor": 2
}
