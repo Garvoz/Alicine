{
 "cells": [
  {
   "cell_type": "code",
   "execution_count": 5,
   "metadata": {},
   "outputs": [],
   "source": [
    "import pandas as pd\n",
    "import numpy as np\n",
    "import ast\n",
    "import pickle"
   ]
  },
  {
   "cell_type": "code",
   "execution_count": 6,
   "metadata": {},
   "outputs": [],
   "source": [
    "link1 = \"./BD/df_tID.csv\"\n",
    "link2 = \"./BD/df_nID.csv\"\n",
    "link3 = \"./BD/df_tmdb_clean.csv\"\n",
    "link4 = \"./BD/df_t_principals_clean.csv\"\n",
    "link5 = \"./BD/df_basic_name_clean.csv\"\n",
    "\n",
    "link6 = \"./BD/df_recherche.csv\"\n",
    "\n",
    "df_recherche = pd.read_csv(link6)\n",
    "\n",
    "df_recherche['Titres possibles'] = df_recherche['Titres possibles'].apply(ast.literal_eval)\n",
    "df_recherche['Genres'] = df_recherche['Genres'].apply(ast.literal_eval)\n",
    "df_recherche['Liste acteurs'] = df_recherche['Liste acteurs'].apply(ast.literal_eval)\n",
    "df_recherche['Réalisateurs'] = df_recherche['Réalisateurs'].apply(ast.literal_eval)\n"
   ]
  },
  {
   "cell_type": "markdown",
   "metadata": {},
   "source": [
    "clé API OMDB: d0157019"
   ]
  },
  {
   "cell_type": "markdown",
   "metadata": {},
   "source": [
    "Ajout d'une colonne \"Liste Acteurs\" et colonne \"Réalisateurs\" dans df_tmdb_clean"
   ]
  },
  {
   "cell_type": "code",
   "execution_count": 125,
   "metadata": {},
   "outputs": [],
   "source": [
    "df_tID = pd.read_csv(link1)\n",
    "df_nID = pd.read_csv(link2)\n",
    "df_tmdb_clean = pd.read_csv(link3)\n",
    "df_t_principals = pd.read_csv(link4)\n",
    "df_basic_name_clean = pd.read_csv(link5)"
   ]
  },
  {
   "cell_type": "code",
   "execution_count": 31,
   "metadata": {},
   "outputs": [],
   "source": [
    "#On filtre les categories du df_t_principals sur des nouveaux df pour un futur merge:\n",
    "df_t_principals_act = df_t_principals[(df_t_principals['category'] == 'actor') | (df_t_principals['category'] == 'actress')]\n",
    "df_t_principals_real = df_t_principals[df_t_principals['category'] == 'director']\n",
    "\n",
    "#Préparation nom des personnes en fonction de leur ID:\n",
    "df_basic_name_noms = df_basic_name_clean[['nconst', 'primaryName']]\n",
    "\n",
    "#incorporation des noms aux différents df_t_principals:\n",
    "df_liste_act = pd.merge(df_t_principals_act, df_basic_name_noms, how = 'left', on = 'nconst')\n",
    "df_liste_real = pd.merge(df_t_principals_real, df_basic_name_noms, how = 'left', on = 'nconst')\n",
    "\n",
    "#Il existe des NaN qui poseront problème par la suite, on peut les dropper car ils représentent à peine 1% du total:\n",
    "df_liste_act = df_liste_act.dropna()\n",
    "df_liste_real = df_liste_real.dropna()\n",
    "\n",
    "#On drop les colonnes maintenant inutiles 'nconst' et 'category' et on groupby sur les tconst pour le merge:\n",
    "df_liste_act = df_liste_act.drop(['nconst', 'category'], axis = 1).groupby('tconst').agg(list)\n",
    "df_liste_real = df_liste_real.drop(['nconst', 'category'], axis = 1).groupby('tconst').agg(list)\n",
    "\n",
    "#Premier merge pour la colonne \"Liste Acteurs\":\n",
    "df_recherche = pd.merge(df_tmdb_clean, df_liste_act, how = 'left', left_on = 'ID', right_on = 'tconst').rename(columns = {'primaryName' : 'Liste acteurs'})\n",
    "\n",
    "#2e pour l'ajout de la colonne \"Réalisateurs\":\n",
    "df_recherche = pd.merge(df_recherche, df_liste_real, how = 'left', left_on = 'ID', right_on = 'tconst').rename(columns = {'primaryName' : 'Réalisateurs'})\n",
    "\n",
    "#Il reste des lignes NaN, on les transforme en listes vides:\n",
    "df_recherche = df_recherche.fillna(\"[]\")\n",
    "\n",
    "#Petit export csv pour pas refaire le code à chaque fois et garder transformer automatiquement les colonnes de listes en listes\n",
    "df_recherche.to_csv(\"df_recherche.csv\", index = False)"
   ]
  },
  {
   "cell_type": "markdown",
   "metadata": {},
   "source": [
    "Maintenant On imagine que l'on demande à un utilisateur de rentrer des infos sur le film:"
   ]
  },
  {
   "cell_type": "code",
   "execution_count": 169,
   "metadata": {},
   "outputs": [
    {
     "data": {
      "text/html": [
       "<div>\n",
       "<style scoped>\n",
       "    .dataframe tbody tr th:only-of-type {\n",
       "        vertical-align: middle;\n",
       "    }\n",
       "\n",
       "    .dataframe tbody tr th {\n",
       "        vertical-align: top;\n",
       "    }\n",
       "\n",
       "    .dataframe thead th {\n",
       "        text-align: right;\n",
       "    }\n",
       "</style>\n",
       "<table border=\"1\" class=\"dataframe\">\n",
       "  <thead>\n",
       "    <tr style=\"text-align: right;\">\n",
       "      <th></th>\n",
       "      <th>ID</th>\n",
       "      <th>Titre</th>\n",
       "      <th>Date de sortie</th>\n",
       "      <th>Durée (minutes)</th>\n",
       "      <th>Genres</th>\n",
       "      <th>Langue Originale</th>\n",
       "      <th>Note moyenne</th>\n",
       "      <th>Nb de votes</th>\n",
       "      <th>Score de popularité</th>\n",
       "      <th>Résumé</th>\n",
       "      <th>Lien du poster</th>\n",
       "      <th>Budget</th>\n",
       "      <th>Titres possibles</th>\n",
       "      <th>Décénnie</th>\n",
       "      <th>Liste acteurs</th>\n",
       "      <th>Réalisateurs</th>\n",
       "    </tr>\n",
       "  </thead>\n",
       "  <tbody>\n",
       "    <tr>\n",
       "      <th>0</th>\n",
       "      <td>tt0054823</td>\n",
       "      <td>Doctor Blood's Coffin</td>\n",
       "      <td>1961-01-01</td>\n",
       "      <td>92</td>\n",
       "      <td>[Horror]</td>\n",
       "      <td>en</td>\n",
       "      <td>5.0</td>\n",
       "      <td>23</td>\n",
       "      <td>1.452</td>\n",
       "      <td>After being thrown out of medical school for e...</td>\n",
       "      <td>/7GkBT8cKPl1GhBuUnktJpjF1uV.jpg</td>\n",
       "      <td>0</td>\n",
       "      <td>[Le cadavre qui tue, O Esquife do Morto-Vivo, ...</td>\n",
       "      <td>1960</td>\n",
       "      <td>[Kieron Moore, Hazel Court, Ian Hunter, Kennet...</td>\n",
       "      <td>[Sidney J. Furie]</td>\n",
       "    </tr>\n",
       "  </tbody>\n",
       "</table>\n",
       "</div>"
      ],
      "text/plain": [
       "          ID                  Titre Date de sortie  Durée (minutes)    Genres  \\\n",
       "0  tt0054823  Doctor Blood's Coffin     1961-01-01               92  [Horror]   \n",
       "\n",
       "  Langue Originale  Note moyenne  Nb de votes  Score de popularité  \\\n",
       "0               en           5.0           23                1.452   \n",
       "\n",
       "                                              Résumé  \\\n",
       "0  After being thrown out of medical school for e...   \n",
       "\n",
       "                    Lien du poster  Budget  \\\n",
       "0  /7GkBT8cKPl1GhBuUnktJpjF1uV.jpg       0   \n",
       "\n",
       "                                    Titres possibles  Décénnie  \\\n",
       "0  [Le cadavre qui tue, O Esquife do Morto-Vivo, ...      1960   \n",
       "\n",
       "                                       Liste acteurs       Réalisateurs  \n",
       "0  [Kieron Moore, Hazel Court, Ian Hunter, Kennet...  [Sidney J. Furie]  "
      ]
     },
     "execution_count": 169,
     "metadata": {},
     "output_type": "execute_result"
    }
   ],
   "source": [
    "df_recherche.head(1)"
   ]
  },
  {
   "cell_type": "markdown",
   "metadata": {},
   "source": [
    "1. \"Titre\" en barre de recherche => choix = T\n",
    "2. \"Genre\" en menu déroulant => choix = G\n",
    "3. \"Décénnie\" en menu déroulant => choix = D\n",
    "4. \"Acteur\" en barre recherche => choix = A\n",
    "5. \"Réalisateur\" en barre recherche => choix = R"
   ]
  },
  {
   "cell_type": "code",
   "execution_count": 157,
   "metadata": {},
   "outputs": [],
   "source": [
    "#Pour le test:\n",
    "T = 'ボトムス ～最底で最強？な私たち～'\n",
    "G = 'Horror'\n",
    "D = 1990\n",
    "A = 'Brad Pitt'\n",
    "R = 'Christopher Nolan'"
   ]
  },
  {
   "cell_type": "code",
   "execution_count": 3,
   "metadata": {},
   "outputs": [
    {
     "ename": "NameError",
     "evalue": "name 'T' is not defined",
     "output_type": "error",
     "traceback": [
      "\u001b[1;31m---------------------------------------------------------------------------\u001b[0m",
      "\u001b[1;31mNameError\u001b[0m                                 Traceback (most recent call last)",
      "Cell \u001b[1;32mIn[3], line 4\u001b[0m\n\u001b[0;32m      2\u001b[0m df_reponse \u001b[38;5;241m=\u001b[39m df_recherche\u001b[38;5;241m.\u001b[39mcopy()\n\u001b[0;32m      3\u001b[0m \u001b[38;5;66;03m#Ensuite on mets des conditions en fonction du choix de l'utilisateur:\u001b[39;00m\n\u001b[1;32m----> 4\u001b[0m \u001b[38;5;28;01mif\u001b[39;00m T \u001b[38;5;241m!=\u001b[39m np\u001b[38;5;241m.\u001b[39mnan:\n\u001b[0;32m      5\u001b[0m     df_reponse \u001b[38;5;241m=\u001b[39m df_reponse[df_reponse[\u001b[38;5;124m'\u001b[39m\u001b[38;5;124mTitres possibles\u001b[39m\u001b[38;5;124m'\u001b[39m]\u001b[38;5;241m.\u001b[39mapply(\u001b[38;5;28;01mlambda\u001b[39;00m x: T \u001b[38;5;129;01min\u001b[39;00m x)]\n\u001b[0;32m      6\u001b[0m \u001b[38;5;28;01mif\u001b[39;00m G \u001b[38;5;241m!=\u001b[39m np\u001b[38;5;241m.\u001b[39mnan:\n",
      "\u001b[1;31mNameError\u001b[0m: name 'T' is not defined"
     ]
    }
   ],
   "source": [
    "#A chaque lancement du code on créé un nouveau df pour cette recherche:\n",
    "df_reponse = df_recherche.copy()\n",
    "#Ensuite on mets des conditions en fonction du choix de l'utilisateur:\n",
    "if T != np.nan:\n",
    "    df_reponse = df_reponse[df_reponse['Titres possibles'].apply(lambda x: T in x)]\n",
    "if G != np.nan:\n",
    "    df_reponse = df_reponse[df_reponse['Genres'].apply(lambda x: G in x)]\n",
    "if D != np.nan:\n",
    "    df_reponse = df_reponse[df_reponse['Décénnie'] == D]\n",
    "if A != np.nan:\n",
    "    df_reponse = df_reponse[df_reponse['Liste acteurs'].apply(lambda x: A in x)]\n",
    "if R != np.nan:\n",
    "    df_reponse = df_reponse[df_reponse['Réalisateurs'].apply(lambda x: R in x)]   \n"
   ]
  },
  {
   "cell_type": "markdown",
   "metadata": {},
   "source": [
    "On veut la liste complète des acteurs, des réalisateurs et des genres pour le système de recherche"
   ]
  },
  {
   "cell_type": "code",
   "execution_count": 11,
   "metadata": {},
   "outputs": [],
   "source": [
    "#On créé une liste vide qui se remplira de tous les acteurs disponibles:\n",
    "acteurs = []\n",
    "reals = []\n",
    "genres = []\n",
    "\n",
    "#Fonction pour un futur \"apply\" qui ajoute chaque liste du df à la liste vide\n",
    "def liste_acteurs(x):\n",
    "    acteurs.extend(x)\n",
    "\n",
    "def liste_reals(x):\n",
    "    reals.extend(x)\n",
    "\n",
    "def liste_genres(x):\n",
    "    genres.extend(x)   \n",
    "\n",
    "df_recherche['Liste acteurs'].apply(liste_acteurs)\n",
    "df_recherche['Réalisateurs'].apply(liste_reals)\n",
    "df_recherche['Genres'].apply(liste_genres)\n",
    "\n",
    "#Pour supprimer les doublons on passe par un set:\n",
    "\n",
    "acteurs = list(set(acteurs))\n",
    "reals = list(set(reals))\n",
    "genres = list(set(genres))\n",
    "decennies = list(df_recherche['Décénnie'].unique())"
   ]
  },
  {
   "cell_type": "code",
   "execution_count": 12,
   "metadata": {},
   "outputs": [],
   "source": [
    "with open('mes_listes.pkl', 'wb') as f:\n",
    "    pickle.dump(acteurs, f)\n",
    "    pickle.dump(reals, f)\n",
    "    pickle.dump(genres, f)\n",
    "    pickle.dump(decennies, f)"
   ]
  },
  {
   "cell_type": "code",
   "execution_count": 13,
   "metadata": {},
   "outputs": [
    {
     "data": {
      "text/plain": [
       "['Science Fiction',\n",
       " 'Drama',\n",
       " 'Family',\n",
       " 'TV Movie',\n",
       " 'Action',\n",
       " 'Fantasy',\n",
       " 'Adventure',\n",
       " 'Western',\n",
       " 'Horror',\n",
       " 'Documentary',\n",
       " 'History',\n",
       " 'Crime',\n",
       " 'Animation',\n",
       " 'Comedy',\n",
       " 'Mystery',\n",
       " 'Music',\n",
       " 'Romance',\n",
       " 'Thriller',\n",
       " 'War']"
      ]
     },
     "execution_count": 13,
     "metadata": {},
     "output_type": "execute_result"
    }
   ],
   "source": [
    "genres"
   ]
  },
  {
   "cell_type": "code",
   "execution_count": null,
   "metadata": {},
   "outputs": [],
   "source": []
  }
 ],
 "metadata": {
  "kernelspec": {
   "display_name": "base",
   "language": "python",
   "name": "python3"
  },
  "language_info": {
   "codemirror_mode": {
    "name": "ipython",
    "version": 3
   },
   "file_extension": ".py",
   "mimetype": "text/x-python",
   "name": "python",
   "nbconvert_exporter": "python",
   "pygments_lexer": "ipython3",
   "version": "3.12.4"
  }
 },
 "nbformat": 4,
 "nbformat_minor": 2
}
